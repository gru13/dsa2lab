{
 "cells": [
    {
        "cell_type": "markdown",
        "metadata": {},
        "source": [
         "# Experiment 9 - Fusion Tree\n",
         "\n",
         "## AIM\n",
         "To gain a deep understanding of Fusion Trees.\n",
         "\n",
         "## FUSION TREE\n",
         "- A fusion tree is a tree data structure that implements an associative array on w-bit integers. It's designed to store integers that fit into a single machine word.\n",
         "- For example, on a 32-bit machine, you can use a fusion tree to store integers of up to 32 bits.\n",
         "- Fusion trees are used to solve the predecessor and successor problem.\n",
         "- They use O(n) space and perform searches on a collection of n key–value pairs.\n",
         "- They can perform sketch, parallel comparison, predecessor and successor, and insert operations in O(log N) time and O(N) space complexity.\n",
         "- Fusion trees are a powerful data structure that can be used to store and access associative arrays efficiently.\n",
         "- They are especially well-suited for applications where speed is important, such as real-time systems and databases.\n",
         "\n",
         "## RESULT\n",
         "Hence, Fusion trees have been studied effectively.\n",
         "\n",
         "This experiment provides an overview of Fusion Trees, their capabilities, and their relevance in solving problems related to associative arrays efficiently.\n"
        ]
       }
 ],
 "metadata": {
  "kernelspec": {
   "display_name": "Python 3",
   "language": "python",
   "name": "python3"
  },
  "language_info": {
   "codemirror_mode": {
    "name": "ipython",
    "version": 3
   },
   "file_extension": ".py",
   "mimetype": "text/x-python",
   "name": "python",
   "nbconvert_exporter": "python",
   "pygments_lexer": "ipython3",
   "version": "3.11.4"
  }
 },
 "nbformat": 4,
 "nbformat_minor": 2
}
