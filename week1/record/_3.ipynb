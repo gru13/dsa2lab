{
 "cells": [
  {
   "cell_type": "markdown",
   "metadata": {},
   "source": [
    "# Experiment 3 - Implementing MST using Kruskal’s Algorithm\n",
    "\n",
    "## AIM\n",
    "To implement Kruskal’s algorithm for finding the Minimum Spanning Tree (MST) of a graph.\n",
    "\n",
    "## ALGORITHM\n",
    "1. **Initialization**:\n",
    "   - Set up data structures, including a list of all edges, a Disjoint Set data structure, and sets to track visited edges and vertices.\n",
    "\n",
    "2. **Sorting Edges**:\n",
    "   - Sort all edges in ascending order based on their weights.\n",
    "\n",
    "3. **Main Loop**:\n",
    "   - Continue the algorithm until all vertices are visited. The loop stops when the number of visited vertices equals the total number of vertices.\n",
    "\n",
    "4. **Select Minimum Edge**:\n",
    "   - Pick the minimum-weight edge (greedy choice) from the sorted list of edges.\n",
    "\n",
    "5. **Edge Validation and Update**:\n",
    "   - Check if adding the edge creates a cycle, and if not, yield the edge as part of the MST.\n",
    "   - Update the sets of visited edges and vertices, remove the reverse edge, and perform a union operation to merge the sets of the connected vertices.\n",
    "\n",
    "This algorithm constructs the Minimum Spanning Tree of the given graph by iteratively selecting and validating edges based on their weights.\n"
   ]
  },
  {
   "cell_type": "code",
   "execution_count": null,
   "metadata": {},
   "outputs": [
    {
     "name": "stdout",
     "output_type": "stream",
     "text": [
      "[('B', 'C', 2), ('C', 'E', 2), ('C', 'D', 3), ('D', 'F', 3), ('A', 'B', 4)]\n"
     ]
    }
   ],
   "source": [
    "from weight_Graph import Graph\n",
    "from ds import DisjointSet\n",
    "\n",
    "\n",
    "def kruskal(G: Graph):\n",
    "    edges = G.allEdges()\n",
    "    disSet = DisjointSet(G.Vertices())\n",
    "    n = G.numberOfVertices()\n",
    "    visted_edges = set()\n",
    "    visted_vertices = set()\n",
    "    edges.sort(key=lambda x: x[-1])\n",
    "    #while n-1 != len(visted_edges):\n",
    "    while n != len(visted_vertices):\n",
    "        min_ = edges.pop(0)\n",
    "        if not (min_ in visted_edges and (min_[1], min_[0], min_[-1]) in visted_edges) and (disSet.find(min_[0]) != disSet.find(min_[1])):\n",
    "            yield min_\n",
    "            visted_edges.add(min_)\n",
    "            visted_edges.add((min_[1], min_[0], min_[-1]))\n",
    "            edges.remove((min_[1], min_[0], min_[-1]))\n",
    "            disSet.union(min_[0], min_[1])\n",
    "            visted_vertices.add(min_[0])\n",
    "            visted_vertices.add(min_[1])\n",
    "\n",
    "\n",
    "G = Graph()\n",
    "\n",
    "if __name__ == '__main__':\n",
    "    G.add_vertice(\"A\")\n",
    "    G.add_vertice(\"B\")\n",
    "    G.add_vertice(\"C\")\n",
    "    G.add_vertice(\"D\")\n",
    "    G.add_vertice(\"E\")\n",
    "    G.add_vertice(\"F\")\n",
    "\n",
    "    G.add_edge(\"A\", \"B\", 4, un=True)\n",
    "    G.add_edge(\"A\", \"C\", 4, un=True)\n",
    "    G.add_edge(\"B\", \"C\", 2, un=True)\n",
    "\n",
    "    G.add_edge(\"C\", \"D\", 3, un=True)\n",
    "    G.add_edge(\"D\", \"F\", 3, un=True)\n",
    "    G.add_edge(\"C\", \"F\", 4, un=True)\n",
    "    G.add_edge(\"C\", \"E\", 2, un=True)\n",
    "    G.add_edge(\"E\", \"F\", 3, un=True)\n",
    "\n",
    "    k = list(kruskal(G))\n",
    "    print(k, sep=\"\\n\")\n"
   ]
  }
 ],
 "metadata": {
  "kernelspec": {
   "display_name": "Python 3",
   "language": "python",
   "name": "python3"
  },
  "language_info": {
   "codemirror_mode": {
    "name": "ipython",
    "version": 3
   },
   "file_extension": ".py",
   "mimetype": "text/x-python",
   "name": "python",
   "nbconvert_exporter": "python",
   "pygments_lexer": "ipython3",
   "version": "3.11.4"
  }
 },
 "nbformat": 4,
 "nbformat_minor": 2
}
