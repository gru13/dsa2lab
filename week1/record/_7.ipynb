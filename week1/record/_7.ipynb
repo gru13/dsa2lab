{
 "cells": [
    {
        "cell_type": "markdown",
        "metadata": {},
        "source": [
         "# Experiment 7 - SHA-256 Implementation\n",
         "\n",
         "## AIM\n",
         "To write a Python program to implement SHA-256.\n",
         "\n",
         "## ALGORITHM\n",
         "\n",
         "1. **Encode the Input String**:\n",
         "   - Convert the input string to a byte array using the `encode()` method. This ensures that the input data is in a format that can be processed by the SHA-256 algorithm.\n",
         "\n",
         "2. **Hash the Byte Array**:\n",
         "   - Use the `sha256()` function from a cryptography library (e.g., `hashlib` in Python) to hash the byte array.\n",
         "   - The `sha256()` function takes the byte array as input and calculates the SHA-256 hash.\n",
         "\n",
         "3. **Get the Hexadecimal Digest**:\n",
         "   - Convert the hash obtained in step 2 to a hexadecimal string using the `hexdigest()` method. This provides a human-readable representation of the hash.\n",
         "   - The hexadecimal digest is the final output of the SHA-256 process.\n",
         "\n",
         "This experiment demonstrates the implementation of SHA-256 in Python to calculate the hash of an input string and obtain its hexadecimal digest."
        ]
       },
       {
        "cell_type": "code",
        "execution_count": 91,
        "metadata": {},
        "outputs": [
         {
          "name": "stdout",
          "output_type": "stream",
          "text": [
           "65768cb7d1407bda3159de800d13f4ba1754adf024f304a4609422a430be47a6\n"
          ]
         }
        ],
        "source": [
         "from hashlib import sha256\n",
         "\n",
         "string = \"this is fun\"\n",
         "\n",
         "hs = sha256(str.encode(\"utf - 8\")).hexdigest()\n",
         "print(hs)"
        ]
       }
 ],
 "metadata": {
  "kernelspec": {
   "display_name": "Python 3",
   "language": "python",
   "name": "python3"
  },
  "language_info": {
   "codemirror_mode": {
    "name": "ipython",
    "version": 3
   },
   "file_extension": ".py",
   "mimetype": "text/x-python",
   "name": "python",
   "nbconvert_exporter": "python",
   "pygments_lexer": "ipython3",
   "version": "3.11.4"
  }
 },
 "nbformat": 4,
 "nbformat_minor": 2
}
