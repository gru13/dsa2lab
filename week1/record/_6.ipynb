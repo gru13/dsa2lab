{
 "cells": [
    {
        "cell_type": "markdown",
        "metadata": {},
        "source": [
         "# Experiment 6 - Radix Sort Implementation\n",
         "\n",
         "## AIM\n",
         "To write a Python program to implement Radix Sort.\n",
         "\n",
         "## ALGORITHM\n",
         "1. **Initialization**: Find the maximum number in the array and determine the number of digits in it.\n",
         "\n",
         "2. **Create Buckets**: Create 10 buckets (0-9), one for each digit.\n",
         "\n",
         "3. **Iterate through Digits**: For each digit, from the least significant to the most significant:\n",
         "   - Place numbers into buckets based on the current digit.\n",
         "   - Reconstruct the array by emptying the buckets in order.\n",
         "\n",
         "4. **Repeat for Each Digit**: Python's ability to create nested loops makes it easy to repeat the process for each digit from the least significant to the most significant.\n",
         "\n",
         "5. **Completion**: After processing all digits, the array is sorted, and you have the sorted result.\n",
         "\n",
         "This experiment demonstrates the implementation of Radix Sort in Python, a non-comparative sorting algorithm that sorts numbers by processing their digits from least significant to most significant.\n"
        ]
       },
       {
        "cell_type": "code",
        "execution_count": 90,
        "metadata": {},
        "outputs": [
         {
          "name": "stdout",
          "output_type": "stream",
          "text": [
           "round 0\n",
           "[52, 123, 1323, 134]\n",
           "round 1\n",
           "[123, 1323, 134, 52]\n",
           "round 2\n",
           "[52, 123, 134, 1323]\n",
           "round 3\n",
           "[52, 123, 134, 1323]\n"
          ]
         }
        ],
        "source": [
         "l=eval(input(\"enter array in format [123,1323,134,52] : \"))\n",
         "d={0:[],1:[],2:[],3:[],4:[],5:[],6:[],7:[],8:[],9:[]}\n",
         "digits=len(str(max(l)))\n",
         "mod=10\n",
         "for i in range(digits):\n",
         "    new_l=[]\n",
         "    for j in l:\n",
         "        nl=d[(j%mod)//(mod/10)]\n",
         "        nl.append(j)\n",
         "    for j in d.values():\n",
         "        new_l+=j\n",
         "        j.clear()\n",
         "    l=new_l\n",
         "    mod*=10\n",
         "    print(\"round\",i)\n",
         "    print(l)"
        ]
       }
 ],
 "metadata": {
  "kernelspec": {
   "display_name": "Python 3",
   "language": "python",
   "name": "python3"
  },
  "language_info": {
   "codemirror_mode": {
    "name": "ipython",
    "version": 3
   },
   "file_extension": ".py",
   "mimetype": "text/x-python",
   "name": "python",
   "nbconvert_exporter": "python",
   "pygments_lexer": "ipython3",
   "version": "3.11.4"
  }
 },
 "nbformat": 4,
 "nbformat_minor": 2
}
