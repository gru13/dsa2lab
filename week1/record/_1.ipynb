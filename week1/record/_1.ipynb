{
 "cells": [
  {
   "cell_type": "markdown",
   "metadata": {},
   "source": [
    "# Experiment 1.A - BFS (Breadth First Search)\n",
    "\n",
    "## AIM\n",
    "To implement Breadth First Search traversal for a graph.\n",
    "\n",
    "## ALGORITHM\n",
    "1. Start by putting any one of the graph's vertices at the back of a queue.\n",
    "2. Take the front item of the queue and add it to the visited list.\n",
    "3. Create a list of that vertex's adjacent nodes. Add the ones which aren't in the visited list to the back of the queue.\n",
    "4. Keep repeating steps 2 and 3 until the queue is empty.\n",
    "\n",
    "\n"
   ]
  },
  {
   "cell_type": "code",
   "execution_count": 22,
   "metadata": {},
   "outputs": [
    {
     "name": "stdout",
     "output_type": "stream",
     "text": [
      "Adjcent List:\n",
      "--------------------\n",
      "0 : [1, 2, 3]\n",
      "1 : [0, 2]\n",
      "2 : [0, 4]\n",
      "3 : [1]\n",
      "4 : [2]\n",
      "--------------------\n",
      "[1, 0, 2, 3, 4]\n"
     ]
    }
   ],
   "source": [
    "from ds import Graph, Queue\n",
    "\n",
    "def bfs(grph: Graph, vrt):\n",
    "    \"\"\"\n",
    "    The algorithm works as follows:\n",
    "        1. Start by putting any one of the graph's vertices at the back of a queue.\n",
    "        2. Take the front item of the queue and add it to the visited list.\n",
    "        3. Create a list of that vertex's adjacent nodes. Add the ones which aren't in the visited list to the back of the queue.\n",
    "        4. Keep repeating steps 2 and 3 until the queue is empty.\n",
    "    \"\"\"\n",
    "\n",
    "    if not grph.isVertice(vrt):\n",
    "        return None\n",
    "    q = Queue()\n",
    "    q.enQueue(vrt)\n",
    "    visited = []\n",
    "    while not q.isEmpty():\n",
    "        vrtx = q.deQueue()\n",
    "        # print(vrtx,end=\"\\t\")\n",
    "        visited.append(vrtx)\n",
    "        neibours = grph.edgesOf(vrtx)\n",
    "        # print(neibours, visited)\n",
    "        for neibour in neibours:\n",
    "            if not (neibour in visited) and not q.inQueue(neibour):\n",
    "                q.enQueue(neibour)\n",
    "            else:\n",
    "                continue\n",
    "        # q.display()\n",
    "    return visited\n",
    "\n",
    "G = Graph(graph={0: [1, 2, 3], 1: [0, 2], 2: [0, 4], 3: [1], 4: [2]})\n",
    "G.Print_adjList()\n",
    "\n",
    "bfs = bfs(G, 1)\n",
    "print(bfs)\n"
   ]
  },
  {
   "cell_type": "markdown",
   "metadata": {},
   "source": [
    "## RESULT\n",
    "Hence BFS has been implemented and the graph has been traversed successfully"
   ]
  },
  {
   "cell_type": "markdown",
   "metadata": {},
   "source": [
    "# Experiment 1.B - DFS (DEPTH FIRST SEARCH)\n",
    "\n",
    "## AIM\n",
    "To implement DFS traversal for a graph.\n",
    "\n",
    "## ALGORITHM\n",
    "1. Start by putting any one of the graph's vertices at the back of a queue.\n",
    "2. Take the front item of the queue and add it to the visited list.\n",
    "3. Create a list of that vertex's adjacent nodes. Add the ones which aren't in the visited list to the back of the queue.\n",
    "4. Keep repeating steps 2 and 3 until the queue is empty.\n",
    "\n",
    "\n"
   ]
  },
  {
   "cell_type": "code",
   "execution_count": null,
   "metadata": {},
   "outputs": [
    {
     "name": "stdout",
     "output_type": "stream",
     "text": [
      "Adjcent List:\n",
      "--------------------\n",
      "1 : [2, 3]\n",
      "2 : [1, 4, 5]\n",
      "3 : [1, 4]\n",
      "4 : [2, 3, 5]\n",
      "5 : [2, 4]\n",
      "--------------------\n",
      "3\n",
      "5\n",
      "4\n",
      "2\n",
      "1\n",
      "None\n"
     ]
    }
   ],
   "source": [
    "from ds import Stack, Graph\n",
    "\n",
    "\n",
    "def dfs(G: Graph, starting_vertex):\n",
    "    if not G.isVertice(starting_vertex):\n",
    "        return None\n",
    "    visited = set()\n",
    "    stk = Stack()\n",
    "    stk.push(starting_vertex)\n",
    "    visited.add(starting_vertex)\n",
    "    while not stk.isEmpty():\n",
    "        vertx = stk.top()\n",
    "        h = (set(G.edgesOf(vertx)) - visited)\n",
    "        if len(h) == 0:\n",
    "            print(stk.pop())\n",
    "        else:\n",
    "            adj = list(h)[0]\n",
    "            visited.add(adj)\n",
    "            stk.push(adj)\n",
    "\n",
    "\n",
    "\n",
    "G = Graph(graph={1: [2, 3], 2: [1, 4, 5], 3: [1, 4], 4: [2, 3, 5], 5: [2, 4]})\n",
    "\n",
    "G.Print_adjList()\n",
    "\n",
    "\n",
    "DFS = dfs(G, 1)\n",
    "print(DFS)\n"
   ]
  },
  {
   "cell_type": "markdown",
   "metadata": {},
   "source": [
    "## RESULT\n",
    " Hence DFS has been implemented and the graph has been traversed successfully"
   ]
  }
 ],
 "metadata": {
  "kernelspec": {
   "display_name": "Python 3",
   "language": "python",
   "name": "python3"
  },
  "language_info": {
   "codemirror_mode": {
    "name": "ipython",
    "version": 3
   },
   "file_extension": ".py",
   "mimetype": "text/x-python",
   "name": "python",
   "nbconvert_exporter": "python",
   "pygments_lexer": "ipython3",
   "version": "3.11.4"
  }
 },
 "nbformat": 4,
 "nbformat_minor": 2
}
