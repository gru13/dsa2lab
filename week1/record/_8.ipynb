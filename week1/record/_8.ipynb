{
 "cells": [
    {
        "cell_type": "markdown",
        "metadata": {},
        "source": [
         "# Experiment 8 - Merkle Trees\n",
         "\n",
         "## AIM\n",
         "To write a Python program to implement Merkle trees.\n",
         "\n",
         "## ALGORITHM\n",
         "1. **Initialize Merkle Tree with Data**:\n",
         "   - Start with a set of data blocks.\n",
         "\n",
         "2. **Build Merkle Tree Recursively**:\n",
         "   - Build the Merkle tree recursively by grouping data blocks into pairs.\n",
         "   - For each pair of data blocks, calculate a hash (e.g., SHA-256) of the concatenation of the hashes of the two blocks.\n",
         "   - Continue this process until you have a single root hash, which represents the entire set of data blocks.\n",
         "\n",
         "3. **Get Root Hash of Merkle Tree**:\n",
         "   - The root hash obtained in step 2 represents the entire set of data.\n",
         "   - This root hash is used to verify the integrity of the data.\n",
         "\n",
         "4. **Verify Merkle Tree with Data and Root Hash**:\n",
         "   - To verify the integrity of data, reconstruct the Merkle tree as in step 2.\n",
         "   - Compare the root hash calculated in this step with the root hash obtained earlier.\n",
         "   - If they match, the data is considered intact and has not been tampered with.\n",
         "\n",
         "5. **Use Merkle Tree to Verify Integrity of Data**:\n",
         "   - Given a set of data blocks and their corresponding Merkle tree, you can use the tree to efficiently verify the integrity of any specific data block.\n",
         "   - To verify a data block, start with its hash and trace its path up the tree to the root, calculating and comparing hashes at each step.\n",
         "   - If the calculated hash matches the root hash, the data block is verified as authentic.\n",
         "\n",
         "This experiment demonstrates the implementation and use of Merkle trees to verify data integrity efficiently.\n"
        ]
       },
       {
        "cell_type": "code",
        "execution_count": 92,
        "metadata": {},
        "outputs": [
         {
          "name": "stdout",
          "output_type": "stream",
          "text": [
           "Merkle Root: d28b37a1683dadcf959c78c5c8e68694cbe28d87a61ba8c26d16adcd1a2d8fb7\n",
           "\n",
           "Full Merkle Tree:\n",
           "Level 0:\n",
           "\tNode 0: 123\n",
           "\tNode 1: 456\n",
           "\tNode 2: 789\n",
           "\tNode 3: 324\n",
           "\n",
           "Level 1:\n",
           "\tNode 0: 8d969eef6ecad3c29a3a629280e686cf0c3f5d5a86aff3ca12020c923adc6c92\n",
           "\tNode 1: 09fd7f0815b321ac516da995d3b95c6340ddb2401b8dc437d1733638c7132ba4\n",
           "\n",
           "Level 2:\n",
           "\tNode 0: d28b37a1683dadcf959c78c5c8e68694cbe28d87a61ba8c26d16adcd1a2d8fb7\n",
           "\n"
          ]
         }
        ],
        "source": [
         "import hashlib\n",
         "\n",
         "# Function to compute the SHA-256 hash of a string\n",
         "def SHA(data):\n",
         "    sha256 = hashlib.sha256()\n",
         "    sha256.update(data.encode('utf-8'))\n",
         "    return sha256.hexdigest()\n",
         "\n",
         "# Function to build a Merkle Tree from a list of data items and print the full tree\n",
         "def buildAndPrintMerkleTree(data):\n",
         "    if not data:\n",
         "        return None\n",
         "\n",
         "    currentLayer = data\n",
         "    fullTree = [currentLayer]  # To store all levels of the tree\n",
         "\n",
         "    while len(currentLayer) > 1:\n",
         "        newLayer = []\n",
         "\n",
         "        for i in range(0, len(currentLayer), 2):\n",
         "            combinedHash = currentLayer[i]\n",
         "            if i + 1 < len(currentLayer):\n",
         "                combinedHash += currentLayer[i + 1]\n",
         "\n",
         "            newLayer.append(SHA(combinedHash))\n",
         "\n",
         "        currentLayer = newLayer\n",
         "        fullTree.append(currentLayer)\n",
         "\n",
         "    return fullTree\n",
         "\n",
         "# Function to print the Merkle Tree\n",
         "def printMerkleTree(tree):\n",
         "    for level, hashes in enumerate(tree):\n",
         "        print(f\"Level {level}:\")\n",
         "        for i, hash in enumerate(hashes):\n",
         "            print(f\"\\tNode {i}: {hash}\")\n",
         "        print()\n",
         "\n",
         "# Example usage:\n",
         "data = [\"123\", \"456\", \"789\", \"324\"]\n",
         "\n",
         "fullTree = buildAndPrintMerkleTree(data)\n",
         "print(\"Merkle Root:\", fullTree[-1][0])  # Merkle Root is the last element\n",
         "\n",
         "# Print the full tree\n",
         "print(\"\\nFull Merkle Tree:\")\n",
         "printMerkleTree(fullTree)"
        ]
       }
 ],
 "metadata": {
  "kernelspec": {
   "display_name": "Python 3",
   "language": "python",
   "name": "python3"
  },
  "language_info": {
   "codemirror_mode": {
    "name": "ipython",
    "version": 3
   },
   "file_extension": ".py",
   "mimetype": "text/x-python",
   "name": "python",
   "nbconvert_exporter": "python",
   "pygments_lexer": "ipython3",
   "version": "3.11.4"
  }
 },
 "nbformat": 4,
 "nbformat_minor": 2
}
