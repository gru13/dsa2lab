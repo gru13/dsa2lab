{
 "cells": [
    {
        "cell_type": "markdown",
        "metadata": {},
        "source": [
         "# Experiment 5 - Tries Implementation\n",
         "\n",
         "## AIM\n",
         "To write a Python program to implement Tries.\n",
         "\n",
         "## ALGORITHM\n",
         "\n",
         "1. **Create a Recursive Function**:\n",
         "   - Develop a recursive function that takes a node and a string as input.\n",
         "\n",
         "2. **Base Case - Empty String**:\n",
         "   - If the string is empty, mark the current node as a leaf node and return. This indicates the end of a word or string.\n",
         "\n",
         "3. **Check for Child Node**:\n",
         "   - If the string is not empty, get the first character of the string.\n",
         "   - Check if the current node has a child for that character.\n",
         "\n",
         "4. **Child Node Existence**:\n",
         "   - If a child node exists for the character, move to the child node and recursively call the function with the remaining characters of the string.\n",
         "\n",
         "5. **Create New Child Node**:\n",
         "   - If there's no child node for the character, create a new child node for that character and then recursively call the function with the remaining characters of the string.\n"
        ]
       },
       {
        "cell_type": "code",
        "execution_count": 94,
        "metadata": {},
        "outputs": [
         {
          "name": "stdout",
          "output_type": "stream",
          "text": [
           "app\n",
           "apple\n",
           "apricot\n",
           "banana\n",
           "bat\n",
           "\n",
           "True\n",
           "False\n"
          ]
         }
        ],
        "source": [
         "class TrieNode:\n",
         "    def __init__(self):\n",
         "        self.children = {}\n",
         "        self.is_end_of_word = False\n",
         "\n",
         "def insert(root, word):\n",
         "    node = root\n",
         "    for char in word:\n",
         "        if char not in node.children:\n",
         "            node.children[char] = TrieNode()\n",
         "        node = node.children[char]\n",
         "    node.is_end_of_word = True\n",
         "\n",
         "def search(root, word):\n",
         "    node = root\n",
         "    for char in word:\n",
         "        if char not in node.children:\n",
         "            return False\n",
         "        node = node.children[char]\n",
         "    return node.is_end_of_word\n",
         "def print_trie(root, prefix=\"\"):\n",
         "    if root.is_end_of_word:\n",
         "        print(prefix)\n",
         "    for char, node in root.children.items():\n",
         "        print_trie(node, prefix + char)\n",
         "\n",
         "# Example Usage:\n",
         "root = TrieNode()\n",
         "words = [\"apple\", \"app\", \"apricot\", \"banana\", \"bat\"]\n",
         "for word in words:\n",
         "    insert(root, word)\n",
         "print_trie(root)\n",
         "print()\n",
         "print(search(root, \"apple\"))  # Output: True\n",
         "print(search(root, \"apples\"))  # Output: False"
        ]
       }
 ],
 "metadata": {
  "kernelspec": {
   "display_name": "Python 3",
   "language": "python",
   "name": "python3"
  },
  "language_info": {
   "codemirror_mode": {
    "name": "ipython",
    "version": 3
   },
   "file_extension": ".py",
   "mimetype": "text/x-python",
   "name": "python",
   "nbconvert_exporter": "python",
   "pygments_lexer": "ipython3",
   "version": "3.11.4"
  }
 },
 "nbformat": 4,
 "nbformat_minor": 2
}
