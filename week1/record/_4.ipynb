{
 "cells": [
    {
        "cell_type": "markdown",
        "metadata": {},
        "source": [
         "# EXPERIMENT 4\n",
         "### Standard Implementations of Numpy Library"
        ]
       },
       {
        "cell_type": "markdown",
        "metadata": {},
        "source": [
         "#### NumPy \n",
         "\n",
         "NumPy (or Numpy) is a Linear Algebra Library for Python, the reason it is so important for Data Science with Python is that almost all of the libraries in the PyData Ecosystem rely on NumPy as one of their main building blocks.\n",
         "\n",
         "Numpy is also incredibly fast, as it has bindings to C libraries.\n"
        ]
       },
       {
        "cell_type": "markdown",
        "metadata": {},
        "source": [
         "## Installation Instructions\n",
         "\n",
         "in anaconda\n",
         "\n",
         "    conda install numpy\n",
         "\n",
         "in pip\n",
         "\n",
         "    pip install numpy"
        ]
       },
       {
        "cell_type": "markdown",
        "metadata": {},
        "source": [
         "## Using NumPy\n",
         "\n",
         "Once you've installed NumPy you can import it as a library:"
        ]
       },
       {
        "cell_type": "markdown",
        "metadata": {},
        "source": [
         "### Numpy Arrays\n",
         "\n",
         "\n",
         "\n",
         "\n",
         "## Creating NumPy Arrays\n",
         "\n",
         "### From a Python List\n",
         "\n",
         "We can create an array by directly converting a list or list of lists:"
        ]
       },
       {
        "cell_type": "code",
        "execution_count": 26,
        "metadata": {},
        "outputs": [
         {
          "name": "stdout",
          "output_type": "stream",
          "text": [
           "[1, 2, 3] <class 'list'>\n",
           "[1 2 3] <class 'numpy.ndarray'>\n",
           "[[1, 2, 3], [4, 5, 6], [7, 8, 9]] <class 'list'>\n",
           "[[1 2 3]\n",
           " [4 5 6]\n",
           " [7 8 9]] <class 'numpy.ndarray'>\n"
          ]
         }
        ],
        "source": [
         "import numpy as np\n",
         "\n",
         "my_list = [1,2,3]\n",
         "print(my_list,type(my_list))\n",
         "arr =  np.array(my_list)\n",
         "print(arr, type(arr))\n",
         "\n",
         "my_matrix = [[1,2,3],[4,5,6],[7,8,9]]\n",
         "print(my_matrix,type(my_matrix))\n",
         "np_matrix = np.array(my_matrix)\n",
         "print(np_matrix,type(np_matrix))"
        ]
       },
       {
        "cell_type": "markdown",
        "metadata": {},
        "source": [
         "### Replicating, joining, or mutating existing arrays\n"
        ]
       },
       {
        "cell_type": "code",
        "execution_count": 27,
        "metadata": {},
        "outputs": [
         {
          "name": "stdout",
          "output_type": "stream",
          "text": [
           "a = [2 3 3 4 5 6] ; b = [2 3]\n"
          ]
         }
        ],
        "source": [
         "a = np.array([1, 2, 3, 4, 5, 6])\n",
         "b = a[:2]\n",
         "b += 1\n",
         "print('a =', a, '; b =', b)"
        ]
       },
       {
        "cell_type": "markdown",
        "metadata": {},
        "source": [
         "In this example, you did not create a new array. You created a variable, b that viewed the first 2 elements of a. When you added 1 to b you would get the same result by adding 1 to a[:2].\n",
         "If you want to create a new array, use the numpy.copy array creation routine as such:"
        ]
       },
       {
        "cell_type": "code",
        "execution_count": 28,
        "metadata": {},
        "outputs": [
         {
          "name": "stdout",
          "output_type": "stream",
          "text": [
           "a =  [1 2 3 4] b =  [2 3]\n"
          ]
         }
        ],
        "source": [
         "a = np.array([1, 2, 3, 4])\n",
         "b = a[:2].copy()\n",
         "b += 1\n",
         "print('a = ', a, 'b = ', b)"
        ]
       },
       {
        "cell_type": "markdown",
        "metadata": {},
        "source": [
         "## Built-in Methods\n",
         "\n",
         "There are lots of built-in ways to generate Arrays"
        ]
       },
       {
        "cell_type": "markdown",
        "metadata": {},
        "source": [
         "### arange\n",
         "\n",
         "Return evenly spaced values within a given interval."
        ]
       },
       {
        "cell_type": "code",
        "execution_count": 29,
        "metadata": {},
        "outputs": [
         {
          "data": {
           "text/plain": [
            "array([0, 1, 2, 3, 4, 5, 6, 7, 8, 9])"
           ]
          },
          "execution_count": 29,
          "metadata": {},
          "output_type": "execute_result"
         }
        ],
        "source": [
         "np.arange(0,10)"
        ]
       },
       {
        "cell_type": "code",
        "execution_count": 30,
        "metadata": {},
        "outputs": [
         {
          "data": {
           "text/plain": [
            "array([ 0,  2,  4,  6,  8, 10])"
           ]
          },
          "execution_count": 30,
          "metadata": {},
          "output_type": "execute_result"
         }
        ],
        "source": [
         "np.arange(0,11,2)"
        ]
       },
       {
        "cell_type": "markdown",
        "metadata": {},
        "source": [
         "### zeros , ones, diags\n",
         "\n",
         "Generate arrays of zeros ,ones , diags"
        ]
       },
       {
        "cell_type": "code",
        "execution_count": 31,
        "metadata": {},
        "outputs": [
         {
          "data": {
           "text/plain": [
            "array([0., 0., 0.])"
           ]
          },
          "execution_count": 31,
          "metadata": {},
          "output_type": "execute_result"
         }
        ],
        "source": [
         "np.zeros(3)"
        ]
       },
       {
        "cell_type": "code",
        "execution_count": 32,
        "metadata": {},
        "outputs": [
         {
          "data": {
           "text/plain": [
            "array([[0., 0., 0., 0., 0.],\n",
            "       [0., 0., 0., 0., 0.],\n",
            "       [0., 0., 0., 0., 0.],\n",
            "       [0., 0., 0., 0., 0.],\n",
            "       [0., 0., 0., 0., 0.]])"
           ]
          },
          "execution_count": 32,
          "metadata": {},
          "output_type": "execute_result"
         }
        ],
        "source": [
         "np.zeros((5,5))"
        ]
       },
       {
        "cell_type": "code",
        "execution_count": 33,
        "metadata": {},
        "outputs": [
         {
          "data": {
           "text/plain": [
            "array([1., 1., 1.])"
           ]
          },
          "execution_count": 33,
          "metadata": {},
          "output_type": "execute_result"
         }
        ],
        "source": [
         "np.ones(3)"
        ]
       },
       {
        "cell_type": "code",
        "execution_count": 34,
        "metadata": {},
        "outputs": [
         {
          "data": {
           "text/plain": [
            "array([[1., 1., 1.],\n",
            "       [1., 1., 1.],\n",
            "       [1., 1., 1.]])"
           ]
          },
          "execution_count": 34,
          "metadata": {},
          "output_type": "execute_result"
         }
        ],
        "source": [
         "np.ones((3,3))"
        ]
       },
       {
        "cell_type": "code",
        "execution_count": 35,
        "metadata": {},
        "outputs": [
         {
          "data": {
           "text/plain": [
            "array([[1, 0, 0],\n",
            "       [0, 2, 0],\n",
            "       [0, 0, 3]])"
           ]
          },
          "execution_count": 35,
          "metadata": {},
          "output_type": "execute_result"
         }
        ],
        "source": [
         "np.diag([1, 2, 3])"
        ]
       },
       {
        "cell_type": "code",
        "execution_count": 36,
        "metadata": {},
        "outputs": [
         {
          "data": {
           "text/plain": [
            "array([[0, 1, 0, 0],\n",
            "       [0, 0, 2, 0],\n",
            "       [0, 0, 0, 3],\n",
            "       [0, 0, 0, 0]])"
           ]
          },
          "execution_count": 36,
          "metadata": {},
          "output_type": "execute_result"
         }
        ],
        "source": [
         "np.diag([1, 2, 3], 1)"
        ]
       },
       {
        "cell_type": "code",
        "execution_count": 37,
        "metadata": {},
        "outputs": [
         {
          "data": {
           "text/plain": [
            "array([1, 4])"
           ]
          },
          "execution_count": 37,
          "metadata": {},
          "output_type": "execute_result"
         }
        ],
        "source": [
         "a = np.array([[1, 2], [3, 4]])\n",
         "np.diag(a)"
        ]
       },
       {
        "cell_type": "markdown",
        "metadata": {},
        "source": [
         "### linspace\n",
         "Return evenly spaced numbers over a specified interval."
        ]
       },
       {
        "cell_type": "code",
        "execution_count": 38,
        "metadata": {},
        "outputs": [
         {
          "data": {
           "text/plain": [
            "array([ 0.,  5., 10.])"
           ]
          },
          "execution_count": 38,
          "metadata": {},
          "output_type": "execute_result"
         }
        ],
        "source": [
         "np.linspace(0,10,3)"
        ]
       },
       {
        "cell_type": "code",
        "execution_count": 39,
        "metadata": {},
        "outputs": [
         {
          "data": {
           "text/plain": [
            "array([ 0.        ,  0.20408163,  0.40816327,  0.6122449 ,  0.81632653,\n",
            "        1.02040816,  1.2244898 ,  1.42857143,  1.63265306,  1.83673469,\n",
            "        2.04081633,  2.24489796,  2.44897959,  2.65306122,  2.85714286,\n",
            "        3.06122449,  3.26530612,  3.46938776,  3.67346939,  3.87755102,\n",
            "        4.08163265,  4.28571429,  4.48979592,  4.69387755,  4.89795918,\n",
            "        5.10204082,  5.30612245,  5.51020408,  5.71428571,  5.91836735,\n",
            "        6.12244898,  6.32653061,  6.53061224,  6.73469388,  6.93877551,\n",
            "        7.14285714,  7.34693878,  7.55102041,  7.75510204,  7.95918367,\n",
            "        8.16326531,  8.36734694,  8.57142857,  8.7755102 ,  8.97959184,\n",
            "        9.18367347,  9.3877551 ,  9.59183673,  9.79591837, 10.        ])"
           ]
          },
          "execution_count": 39,
          "metadata": {},
          "output_type": "execute_result"
         }
        ],
        "source": [
         "np.linspace(0,10,50)"
        ]
       },
       {
        "cell_type": "markdown",
        "metadata": {},
        "source": [
         "### randint\n",
         "Return random integers from `low` (inclusive) to `high` (exclusive)."
        ]
       },
       {
        "cell_type": "code",
        "execution_count": 40,
        "metadata": {},
        "outputs": [
         {
          "data": {
           "text/plain": [
            "38"
           ]
          },
          "execution_count": 40,
          "metadata": {},
          "output_type": "execute_result"
         }
        ],
        "source": [
         "np.random.randint(1,100)"
        ]
       },
       {
        "cell_type": "code",
        "execution_count": 41,
        "metadata": {},
        "outputs": [
         {
          "data": {
           "text/plain": [
            "array([49, 27, 50,  5, 52,  9, 74, 23, 69,  7])"
           ]
          },
          "execution_count": 41,
          "metadata": {},
          "output_type": "execute_result"
         }
        ],
        "source": [
         "np.random.randint(1,100,10)"
        ]
       },
       {
        "cell_type": "markdown",
        "metadata": {},
        "source": [
         "## Reshape, flatten \n",
         "Returns an array containing the same data with a new shape."
        ]
       },
       {
        "cell_type": "code",
        "execution_count": 42,
        "metadata": {},
        "outputs": [
         {
          "data": {
           "text/plain": [
            "array([ 0,  1,  2,  3,  4,  5,  6,  7,  8,  9, 10, 11, 12, 13, 14, 15, 16,\n",
            "       17, 18, 19, 20, 21, 22, 23, 24])"
           ]
          },
          "execution_count": 42,
          "metadata": {},
          "output_type": "execute_result"
         }
        ],
        "source": [
         "arr = np.arange(25)\n",
         "arr"
        ]
       },
       {
        "cell_type": "code",
        "execution_count": 43,
        "metadata": {},
        "outputs": [
         {
          "data": {
           "text/plain": [
            "array([[ 0,  1,  2,  3,  4],\n",
            "       [ 5,  6,  7,  8,  9],\n",
            "       [10, 11, 12, 13, 14],\n",
            "       [15, 16, 17, 18, 19],\n",
            "       [20, 21, 22, 23, 24]])"
           ]
          },
          "execution_count": 43,
          "metadata": {},
          "output_type": "execute_result"
         }
        ],
        "source": [
         "arr.reshape(5,5)"
        ]
       },
       {
        "cell_type": "code",
        "execution_count": 44,
        "metadata": {},
        "outputs": [
         {
          "data": {
           "text/plain": [
            "array([ 0,  1,  2,  3,  4,  5,  6,  7,  8,  9, 10, 11, 12, 13, 14, 15, 16,\n",
            "       17, 18, 19, 20, 21, 22, 23, 24])"
           ]
          },
          "execution_count": 44,
          "metadata": {},
          "output_type": "execute_result"
         }
        ],
        "source": [
         "arr.flatten()"
        ]
       },
       {
        "cell_type": "code",
        "execution_count": 45,
        "metadata": {},
        "outputs": [
         {
          "data": {
           "text/plain": [
            "(25,)"
           ]
          },
          "execution_count": 45,
          "metadata": {},
          "output_type": "execute_result"
         }
        ],
        "source": [
         "arr.shape"
        ]
       },
       {
        "cell_type": "markdown",
        "metadata": {},
        "source": [
         "### max,min\n",
         "\n",
         "These are useful methods for finding max or min values. Or to find their index locations using argmin or argmax"
        ]
       },
       {
        "cell_type": "code",
        "execution_count": 46,
        "metadata": {},
        "outputs": [
         {
          "data": {
           "text/plain": [
            "24"
           ]
          },
          "execution_count": 46,
          "metadata": {},
          "output_type": "execute_result"
         }
        ],
        "source": [
         "arr.max()"
        ]
       },
       {
        "cell_type": "code",
        "execution_count": 47,
        "metadata": {},
        "outputs": [
         {
          "data": {
           "text/plain": [
            "0"
           ]
          },
          "execution_count": 47,
          "metadata": {},
          "output_type": "execute_result"
         }
        ],
        "source": [
         "arr.min()"
        ]
       },
       {
        "cell_type": "markdown",
        "metadata": {},
        "source": [
         "## Arithmetic\n",
         "\n",
         "You can easily perform array with array arithmetic, or scalar with array arithmetic. Let's see some examples:"
        ]
       },
       {
        "cell_type": "code",
        "execution_count": 48,
        "metadata": {
         "collapsed": true
        },
        "outputs": [
         {
          "name": "stdout",
          "output_type": "stream",
          "text": [
           "[0 1 2 3 4 5 6 7 8 9]\n",
           "[ 0  2  4  6  8 10 12 14 16 18]\n"
          ]
         }
        ],
        "source": [
         "import numpy as np\n",
         "arr = np.arange(0,10)\n",
         "arr2 = np.arange(0,20,2) \n",
         "print(arr)\n",
         "print(arr2)"
        ]
       },
       {
        "cell_type": "code",
        "execution_count": 49,
        "metadata": {},
        "outputs": [
         {
          "data": {
           "text/plain": [
            "array([ 0,  3,  6,  9, 12, 15, 18, 21, 24, 27])"
           ]
          },
          "execution_count": 49,
          "metadata": {},
          "output_type": "execute_result"
         }
        ],
        "source": [
         "arr + arr2"
        ]
       },
       {
        "cell_type": "code",
        "execution_count": 50,
        "metadata": {},
        "outputs": [
         {
          "data": {
           "text/plain": [
            "array([  0,   2,   8,  18,  32,  50,  72,  98, 128, 162])"
           ]
          },
          "execution_count": 50,
          "metadata": {},
          "output_type": "execute_result"
         }
        ],
        "source": [
         "arr2 * arr"
        ]
       },
       {
        "cell_type": "code",
        "execution_count": 51,
        "metadata": {},
        "outputs": [
         {
          "data": {
           "text/plain": [
            "array([0, 1, 2, 3, 4, 5, 6, 7, 8, 9])"
           ]
          },
          "execution_count": 51,
          "metadata": {},
          "output_type": "execute_result"
         }
        ],
        "source": [
         "arr2 - arr"
        ]
       },
       {
        "cell_type": "code",
        "execution_count": 52,
        "metadata": {},
        "outputs": [
         {
          "name": "stderr",
          "output_type": "stream",
          "text": [
           "C:\\Users\\gurup\\AppData\\Local\\Temp\\ipykernel_2992\\209023188.py:3: RuntimeWarning: invalid value encountered in divide\n",
           "  arr2/arr\n"
          ]
         },
         {
          "data": {
           "text/plain": [
            "array([nan,  2.,  2.,  2.,  2.,  2.,  2.,  2.,  2.,  2.])"
           ]
          },
          "execution_count": 52,
          "metadata": {},
          "output_type": "execute_result"
         }
        ],
        "source": [
         "# Warning on division by zero, but not an error!\n",
         "# Just replaced with nan\n",
         "arr2/arr"
        ]
       },
       {
        "cell_type": "code",
        "execution_count": 53,
        "metadata": {},
        "outputs": [
         {
          "name": "stderr",
          "output_type": "stream",
          "text": [
           "C:\\Users\\gurup\\AppData\\Local\\Temp\\ipykernel_2992\\1360216608.py:2: RuntimeWarning: divide by zero encountered in divide\n",
           "  1/arr\n"
          ]
         },
         {
          "data": {
           "text/plain": [
            "array([       inf, 1.        , 0.5       , 0.33333333, 0.25      ,\n",
            "       0.2       , 0.16666667, 0.14285714, 0.125     , 0.11111111])"
           ]
          },
          "execution_count": 53,
          "metadata": {},
          "output_type": "execute_result"
         }
        ],
        "source": [
         "# Also warning, but not an error instead infinity\n",
         "1/arr"
        ]
       },
       {
        "cell_type": "code",
        "execution_count": 54,
        "metadata": {},
        "outputs": [
         {
          "data": {
           "text/plain": [
            "array([  0,   1,   8,  27,  64, 125, 216, 343, 512, 729], dtype=int32)"
           ]
          },
          "execution_count": 54,
          "metadata": {},
          "output_type": "execute_result"
         }
        ],
        "source": [
         "arr**3"
        ]
       },
       {
        "cell_type": "markdown",
        "metadata": {},
        "source": [
         "## Universal Array Functions\n",
         "\n",
         "Numpy comes with many [universal array functions](http://docs.scipy.org/doc/numpy/reference/ufuncs.html), which are essentially just mathematical operations you can use to perform the operation across the array. Let's show some common ones:"
        ]
       },
       {
        "cell_type": "code",
        "execution_count": 55,
        "metadata": {},
        "outputs": [
         {
          "data": {
           "text/plain": [
            "array([0.        , 1.        , 1.41421356, 1.73205081, 2.        ,\n",
            "       2.23606798, 2.44948974, 2.64575131, 2.82842712, 3.        ])"
           ]
          },
          "execution_count": 55,
          "metadata": {},
          "output_type": "execute_result"
         }
        ],
        "source": [
         "#Taking Square Roots\n",
         "np.sqrt(arr)"
        ]
       },
       {
        "cell_type": "code",
        "execution_count": 56,
        "metadata": {},
        "outputs": [
         {
          "data": {
           "text/plain": [
            "array([1.00000000e+00, 2.71828183e+00, 7.38905610e+00, 2.00855369e+01,\n",
            "       5.45981500e+01, 1.48413159e+02, 4.03428793e+02, 1.09663316e+03,\n",
            "       2.98095799e+03, 8.10308393e+03])"
           ]
          },
          "execution_count": 56,
          "metadata": {},
          "output_type": "execute_result"
         }
        ],
        "source": [
         "#Calcualting exponential (e^)\n",
         "np.exp(arr)"
        ]
       },
       {
        "cell_type": "code",
        "execution_count": 57,
        "metadata": {},
        "outputs": [
         {
          "data": {
           "text/plain": [
            "9"
           ]
          },
          "execution_count": 57,
          "metadata": {},
          "output_type": "execute_result"
         }
        ],
        "source": [
         "np.max(arr) #same as arr.max()"
        ]
       },
       {
        "cell_type": "code",
        "execution_count": 58,
        "metadata": {},
        "outputs": [
         {
          "data": {
           "text/plain": [
            "array([ 0.        ,  0.84147098,  0.90929743,  0.14112001, -0.7568025 ,\n",
            "       -0.95892427, -0.2794155 ,  0.6569866 ,  0.98935825,  0.41211849])"
           ]
          },
          "execution_count": 58,
          "metadata": {},
          "output_type": "execute_result"
         }
        ],
        "source": [
         "np.sin(arr)"
        ]
       },
       {
        "cell_type": "code",
        "execution_count": 59,
        "metadata": {},
        "outputs": [
         {
          "name": "stderr",
          "output_type": "stream",
          "text": [
           "C:\\Users\\gurup\\AppData\\Local\\Temp\\ipykernel_2992\\3120950136.py:1: RuntimeWarning: divide by zero encountered in log\n",
           "  np.log(arr)\n"
          ]
         },
         {
          "data": {
           "text/plain": [
            "array([      -inf, 0.        , 0.69314718, 1.09861229, 1.38629436,\n",
            "       1.60943791, 1.79175947, 1.94591015, 2.07944154, 2.19722458])"
           ]
          },
          "execution_count": 59,
          "metadata": {},
          "output_type": "execute_result"
         }
        ],
        "source": [
         "np.log(arr)"
        ]
       },
       {
        "cell_type": "markdown",
        "metadata": {},
        "source": [
         "### NumPy Indexing and Selection\n",
         "\n",
         "In this lecture we will discuss how to select elements or groups of elements from an array."
        ]
       },
       {
        "cell_type": "code",
        "execution_count": 60,
        "metadata": {},
        "outputs": [],
        "source": [
         "#Creating sample array\n",
         "arr1 = np.arange(0,11)"
        ]
       },
       {
        "cell_type": "code",
        "execution_count": 61,
        "metadata": {},
        "outputs": [
         {
          "data": {
           "text/plain": [
            "array([ 0,  1,  2,  3,  4,  5,  6,  7,  8,  9, 10])"
           ]
          },
          "execution_count": 61,
          "metadata": {},
          "output_type": "execute_result"
         }
        ],
        "source": [
         "#Show\n",
         "arr1"
        ]
       },
       {
        "cell_type": "markdown",
        "metadata": {},
        "source": [
         "## Bracket Indexing and Selection\n",
         "The simplest way to pick one or some elements of an array looks very similar to python lists:"
        ]
       },
       {
        "cell_type": "code",
        "execution_count": 62,
        "metadata": {},
        "outputs": [
         {
          "data": {
           "text/plain": [
            "8"
           ]
          },
          "execution_count": 62,
          "metadata": {},
          "output_type": "execute_result"
         }
        ],
        "source": [
         "#Get a value at an index\n",
         "arr1[8]"
        ]
       },
       {
        "cell_type": "code",
        "execution_count": 63,
        "metadata": {},
        "outputs": [
         {
          "data": {
           "text/plain": [
            "array([1, 2, 3, 4])"
           ]
          },
          "execution_count": 63,
          "metadata": {},
          "output_type": "execute_result"
         }
        ],
        "source": [
         "#Get values in a range\n",
         "arr1[1:5]"
        ]
       },
       {
        "cell_type": "code",
        "execution_count": 64,
        "metadata": {},
        "outputs": [
         {
          "data": {
           "text/plain": [
            "array([0, 1, 2, 3, 4])"
           ]
          },
          "execution_count": 64,
          "metadata": {},
          "output_type": "execute_result"
         }
        ],
        "source": [
         "#Get values in a range\n",
         "arr1[0:5]"
        ]
       },
       {
        "cell_type": "markdown",
        "metadata": {},
        "source": [
         "## Broadcasting\n",
         "\n",
         "Numpy arrays differ from a normal Python list because of their ability to broadcast:"
        ]
       },
       {
        "cell_type": "code",
        "execution_count": 65,
        "metadata": {},
        "outputs": [
         {
          "data": {
           "text/plain": [
            "array([100, 100, 100, 100, 100,   5,   6,   7,   8,   9,  10])"
           ]
          },
          "execution_count": 65,
          "metadata": {},
          "output_type": "execute_result"
         }
        ],
        "source": [
         "#Setting a value with index range (Broadcasting)\n",
         "arr1[0:5]=100\n",
         "\n",
         "#Show\n",
         "arr1"
        ]
       },
       {
        "cell_type": "code",
        "execution_count": 66,
        "metadata": {},
        "outputs": [
         {
          "data": {
           "text/plain": [
            "array([ 0,  1,  2,  3,  4,  5,  6,  7,  8,  9, 10])"
           ]
          },
          "execution_count": 66,
          "metadata": {},
          "output_type": "execute_result"
         }
        ],
        "source": [
         "# Reset array, we'll see why I had to reset in  a moment\n",
         "arr1 = np.arange(0,11)\n",
         "\n",
         "#Show\n",
         "arr1"
        ]
       },
       {
        "cell_type": "code",
        "execution_count": 67,
        "metadata": {},
        "outputs": [
         {
          "data": {
           "text/plain": [
            "array([0, 1, 2, 3, 4, 5])"
           ]
          },
          "execution_count": 67,
          "metadata": {},
          "output_type": "execute_result"
         }
        ],
        "source": [
         "#Important notes on Slices\n",
         "slice_of_arr1 = arr1[0:6]\n",
         "\n",
         "#Show slice\n",
         "slice_of_arr1"
        ]
       },
       {
        "cell_type": "code",
        "execution_count": 68,
        "metadata": {},
        "outputs": [
         {
          "data": {
           "text/plain": [
            "array([99, 99, 99, 99, 99, 99])"
           ]
          },
          "execution_count": 68,
          "metadata": {},
          "output_type": "execute_result"
         }
        ],
        "source": [
         "#Change Slice\n",
         "slice_of_arr1[:]=99\n",
         "\n",
         "#Show Slice again\n",
         "slice_of_arr1"
        ]
       },
       {
        "cell_type": "markdown",
        "metadata": {},
        "source": [
         "Now note the changes also occur in our original array!"
        ]
       },
       {
        "cell_type": "code",
        "execution_count": 69,
        "metadata": {},
        "outputs": [
         {
          "data": {
           "text/plain": [
            "array([99, 99, 99, 99, 99, 99,  6,  7,  8,  9, 10])"
           ]
          },
          "execution_count": 69,
          "metadata": {},
          "output_type": "execute_result"
         }
        ],
        "source": [
         "arr1"
        ]
       },
       {
        "cell_type": "markdown",
        "metadata": {},
        "source": [
         "Data is not copied, it's a view of the original array! This avoids memory problems!"
        ]
       },
       {
        "cell_type": "code",
        "execution_count": 70,
        "metadata": {},
        "outputs": [
         {
          "data": {
           "text/plain": [
            "array([99, 99, 99, 99, 99, 99,  6,  7,  8,  9, 10])"
           ]
          },
          "execution_count": 70,
          "metadata": {},
          "output_type": "execute_result"
         }
        ],
        "source": [
         "#To get a copy, need to be explicit\n",
         "arr1_copy = arr1.copy()\n",
         "\n",
         "arr1_copy"
        ]
       },
       {
        "cell_type": "markdown",
        "metadata": {},
        "source": [
         "## Indexing a 2D array (matrices)\n",
         "\n",
         "The general format is **arr_2d[row][col]** or **arr_2d[row,col]**."
        ]
       },
       {
        "cell_type": "code",
        "execution_count": 71,
        "metadata": {},
        "outputs": [
         {
          "data": {
           "text/plain": [
            "array([[ 5, 10, 15],\n",
            "       [20, 25, 30],\n",
            "       [35, 40, 45]])"
           ]
          },
          "execution_count": 71,
          "metadata": {},
          "output_type": "execute_result"
         }
        ],
        "source": [
         "arr_2d = np.array(([5,10,15],[20,25,30],[35,40,45]))\n",
         "\n",
         "#Show\n",
         "arr_2d"
        ]
       },
       {
        "cell_type": "code",
        "execution_count": 72,
        "metadata": {},
        "outputs": [
         {
          "data": {
           "text/plain": [
            "array([20, 25, 30])"
           ]
          },
          "execution_count": 72,
          "metadata": {},
          "output_type": "execute_result"
         }
        ],
        "source": [
         "#Indexing row\n",
         "arr_2d[1]"
        ]
       },
       {
        "cell_type": "code",
        "execution_count": 73,
        "metadata": {},
        "outputs": [
         {
          "data": {
           "text/plain": [
            "20"
           ]
          },
          "execution_count": 73,
          "metadata": {},
          "output_type": "execute_result"
         }
        ],
        "source": [
         "# Format is arr_2d[row][col] or arr_2d[row,col]\n",
         "\n",
         "# Getting individual element value\n",
         "arr_2d[1][0]"
        ]
       },
       {
        "cell_type": "code",
        "execution_count": 74,
        "metadata": {},
        "outputs": [
         {
          "data": {
           "text/plain": [
            "20"
           ]
          },
          "execution_count": 74,
          "metadata": {},
          "output_type": "execute_result"
         }
        ],
        "source": [
         "# Getting individual element value\n",
         "arr_2d[1,0]"
        ]
       },
       {
        "cell_type": "code",
        "execution_count": 75,
        "metadata": {},
        "outputs": [
         {
          "data": {
           "text/plain": [
            "array([[10, 15],\n",
            "       [25, 30]])"
           ]
          },
          "execution_count": 75,
          "metadata": {},
          "output_type": "execute_result"
         }
        ],
        "source": [
         "# 2D array slicing\n",
         "\n",
         "#Shape (2,2) from top right corner\n",
         "arr_2d[:2,1:]"
        ]
       },
       {
        "cell_type": "code",
        "execution_count": 76,
        "metadata": {},
        "outputs": [
         {
          "data": {
           "text/plain": [
            "array([35, 40, 45])"
           ]
          },
          "execution_count": 76,
          "metadata": {},
          "output_type": "execute_result"
         }
        ],
        "source": [
         "#Shape bottom row\n",
         "arr_2d[2]"
        ]
       },
       {
        "cell_type": "code",
        "execution_count": 77,
        "metadata": {},
        "outputs": [
         {
          "data": {
           "text/plain": [
            "array([35, 40, 45])"
           ]
          },
          "execution_count": 77,
          "metadata": {},
          "output_type": "execute_result"
         }
        ],
        "source": [
         "#Shape bottom row\n",
         "arr_2d[2,:]"
        ]
       },
       {
        "cell_type": "markdown",
        "metadata": {},
        "source": [
         "### Fancy Indexing\n",
         "\n",
         "Fancy indexing allows you to select entire rows or columns out of order,to show this, let's quickly build out a numpy array:"
        ]
       },
       {
        "cell_type": "code",
        "execution_count": 78,
        "metadata": {},
        "outputs": [],
        "source": [
         "#Set up matrix\n",
         "arr2d = np.zeros((10,10))"
        ]
       },
       {
        "cell_type": "code",
        "execution_count": 79,
        "metadata": {},
        "outputs": [],
        "source": [
         "#Length of array\n",
         "arr_length = arr2d.shape[1]"
        ]
       },
       {
        "cell_type": "code",
        "execution_count": 80,
        "metadata": {},
        "outputs": [
         {
          "data": {
           "text/plain": [
            "array([[0., 0., 0., 0., 0., 0., 0., 0., 0., 0.],\n",
            "       [1., 1., 1., 1., 1., 1., 1., 1., 1., 1.],\n",
            "       [2., 2., 2., 2., 2., 2., 2., 2., 2., 2.],\n",
            "       [3., 3., 3., 3., 3., 3., 3., 3., 3., 3.],\n",
            "       [4., 4., 4., 4., 4., 4., 4., 4., 4., 4.],\n",
            "       [5., 5., 5., 5., 5., 5., 5., 5., 5., 5.],\n",
            "       [6., 6., 6., 6., 6., 6., 6., 6., 6., 6.],\n",
            "       [7., 7., 7., 7., 7., 7., 7., 7., 7., 7.],\n",
            "       [8., 8., 8., 8., 8., 8., 8., 8., 8., 8.],\n",
            "       [9., 9., 9., 9., 9., 9., 9., 9., 9., 9.]])"
           ]
          },
          "execution_count": 80,
          "metadata": {},
          "output_type": "execute_result"
         }
        ],
        "source": [
         "#Set up array\n",
         "\n",
         "for i in range(arr_length):\n",
         "    arr2d[i] = i\n",
         "    \n",
         "arr2d"
        ]
       },
       {
        "cell_type": "markdown",
        "metadata": {},
        "source": [
         "Fancy indexing allows the following"
        ]
       },
       {
        "cell_type": "code",
        "execution_count": 81,
        "metadata": {},
        "outputs": [
         {
          "data": {
           "text/plain": [
            "array([[2., 2., 2., 2., 2., 2., 2., 2., 2., 2.],\n",
            "       [4., 4., 4., 4., 4., 4., 4., 4., 4., 4.],\n",
            "       [6., 6., 6., 6., 6., 6., 6., 6., 6., 6.],\n",
            "       [8., 8., 8., 8., 8., 8., 8., 8., 8., 8.]])"
           ]
          },
          "execution_count": 81,
          "metadata": {},
          "output_type": "execute_result"
         }
        ],
        "source": [
         "arr2d[[2,4,6,8]]"
        ]
       },
       {
        "cell_type": "code",
        "execution_count": 82,
        "metadata": {},
        "outputs": [
         {
          "data": {
           "text/plain": [
            "array([[6., 6., 6., 6., 6., 6., 6., 6., 6., 6.],\n",
            "       [4., 4., 4., 4., 4., 4., 4., 4., 4., 4.],\n",
            "       [2., 2., 2., 2., 2., 2., 2., 2., 2., 2.],\n",
            "       [7., 7., 7., 7., 7., 7., 7., 7., 7., 7.]])"
           ]
          },
          "execution_count": 82,
          "metadata": {},
          "output_type": "execute_result"
         }
        ],
        "source": [
         "#Allows in any order\n",
         "arr2d[[6,4,2,7]]"
        ]
       },
       {
        "cell_type": "markdown",
        "metadata": {},
        "source": [
         "## Selection\n",
         "\n",
         "Let's briefly go over how to use brackets for selection based off of comparison operators."
        ]
       },
       {
        "cell_type": "code",
        "execution_count": 83,
        "metadata": {},
        "outputs": [
         {
          "data": {
           "text/plain": [
            "array([ 1,  2,  3,  4,  5,  6,  7,  8,  9, 10])"
           ]
          },
          "execution_count": 83,
          "metadata": {},
          "output_type": "execute_result"
         }
        ],
        "source": [
         "arr = np.arange(1,11)\n",
         "arr"
        ]
       },
       {
        "cell_type": "code",
        "execution_count": 84,
        "metadata": {},
        "outputs": [
         {
          "data": {
           "text/plain": [
            "array([False, False, False, False,  True,  True,  True,  True,  True,\n",
            "        True])"
           ]
          },
          "execution_count": 84,
          "metadata": {},
          "output_type": "execute_result"
         }
        ],
        "source": [
         "arr > 4"
        ]
       },
       {
        "cell_type": "code",
        "execution_count": 85,
        "metadata": {
         "collapsed": true
        },
        "outputs": [],
        "source": [
         "bool_arr = arr>4"
        ]
       },
       {
        "cell_type": "code",
        "execution_count": 86,
        "metadata": {},
        "outputs": [
         {
          "data": {
           "text/plain": [
            "array([False, False, False, False,  True,  True,  True,  True,  True,\n",
            "        True])"
           ]
          },
          "execution_count": 86,
          "metadata": {},
          "output_type": "execute_result"
         }
        ],
        "source": [
         "bool_arr"
        ]
       },
       {
        "cell_type": "code",
        "execution_count": 87,
        "metadata": {},
        "outputs": [
         {
          "data": {
           "text/plain": [
            "array([ 5,  6,  7,  8,  9, 10])"
           ]
          },
          "execution_count": 87,
          "metadata": {},
          "output_type": "execute_result"
         }
        ],
        "source": [
         "arr[bool_arr]"
        ]
       },
       {
        "cell_type": "code",
        "execution_count": 88,
        "metadata": {},
        "outputs": [
         {
          "data": {
           "text/plain": [
            "array([ 3,  4,  5,  6,  7,  8,  9, 10])"
           ]
          },
          "execution_count": 88,
          "metadata": {},
          "output_type": "execute_result"
         }
        ],
        "source": [
         "arr[arr>2]"
        ]
       },
       {
        "cell_type": "code",
        "execution_count": 89,
        "metadata": {},
        "outputs": [
         {
          "data": {
           "text/plain": [
            "array([ 3,  4,  5,  6,  7,  8,  9, 10])"
           ]
          },
          "execution_count": 89,
          "metadata": {},
          "output_type": "execute_result"
         }
        ],
        "source": [
         "x = 2\n",
         "arr[arr>x]"
        ]
       },
       {
        "cell_type": "markdown",
        "metadata": {},
        "source": [
         "#"
        ]
       }
 ],
 "metadata": {
  "kernelspec": {
   "display_name": "Python 3",
   "language": "python",
   "name": "python3"
  },
  "language_info": {
   "codemirror_mode": {
    "name": "ipython",
    "version": 3
   },
   "file_extension": ".py",
   "mimetype": "text/x-python",
   "name": "python",
   "nbconvert_exporter": "python",
   "pygments_lexer": "ipython3",
   "version": "3.11.4"
  }
 },
 "nbformat": 4,
 "nbformat_minor": 2
}
