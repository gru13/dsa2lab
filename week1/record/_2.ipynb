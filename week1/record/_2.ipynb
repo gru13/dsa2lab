{
 "cells": [
  {
   "cell_type": "markdown",
   "metadata": {},
   "source": [
    "# Experiment 2 - Implementing MST using Prim’s Algorithm\n",
    "\n",
    "## AIM\n",
    "To implement Prim’s algorithm for finding the Minimum Spanning Tree (MST) of a graph.\n",
    "\n",
    "## ALGORITHM\n",
    "1. **Initialization**:\n",
    "   - Initialize the required data structures and set the initial vertex as visited.\n",
    "\n",
    "2. **Main Loop**:\n",
    "   - Continue the algorithm until all vertices are visited. This loop is based on the number of visited vertices compared to the total number of vertices in the graph (n).\n",
    "\n",
    "3. **Find Minimum-Weight Edge**:\n",
    "   - Identify the minimum-weight edge connected to the visited vertices by examining and sorting all edges based on their weights.\n",
    "\n",
    "4. **Cycle Check**:\n",
    "   - Ensure that the selected edge does not create a cycle in the MST by verifying that both of its vertices are not already visited.\n",
    "\n",
    "5. **Update MST and Mark Vertices**:\n",
    "   - If the edge does not create a cycle, add it to the MST and mark its vertices as visited.\n",
    "   - Yield the current minimum-weight edge as part of the MST.\n"
   ]
  },
  {
   "cell_type": "code",
   "execution_count": null,
   "metadata": {},
   "outputs": [
    {
     "name": "stdout",
     "output_type": "stream",
     "text": [
      "[('F', 'D', 3), ('F', 'E', 3), ('E', 'C', 2), ('C', 'B', 2), ('B', 'A', 4)]\n"
     ]
    }
   ],
   "source": [
    "from weight_Graph import Graph\n",
    "\n",
    "def prim(G: Graph, vertex):\n",
    "    n = G.numberOfVertices()\n",
    "    visited_vertice = set()\n",
    "    visited_edges = set()\n",
    "    visited_vertice.add(vertex)\n",
    "    while len(visited_vertice) != n:\n",
    "        cur_edge = []\n",
    "        for a in visited_vertice:\n",
    "            cur_edge += G.edgesOf(a, n=True)\n",
    "\n",
    "        cur_edge = list(sorted(cur_edge, key=lambda x: x[-1]))\n",
    "        while (cur_edge[0][1] in visited_vertice and cur_edge[0][0] in visited_vertice):\n",
    "            cur_edge.pop(0)\n",
    "\n",
    "        v1 = cur_edge[0][0]\n",
    "        v2 = cur_edge[0][1]\n",
    "        w = cur_edge[0][-1]\n",
    "        visited_edges.add((v1, v2, w))\n",
    "        visited_edges.add((v2, v1, w))\n",
    "\n",
    "        # to say no cycle\n",
    "        if not (v2 in visited_vertice and v1 in visited_vertice):\n",
    "            visited_vertice.add(v2)\n",
    "            visited_vertice.add(v1)\n",
    "            yield cur_edge[0]\n",
    "\n",
    "\n",
    "G = Graph()\n",
    "\n",
    "if __name__ == '__main__':\n",
    "    G.add_vertice(\"A\")\n",
    "    G.add_vertice(\"B\")\n",
    "    G.add_vertice(\"C\")\n",
    "    G.add_vertice(\"D\")\n",
    "    G.add_vertice(\"E\")\n",
    "    G.add_vertice(\"F\")\n",
    "\n",
    "    G.add_edge(\"A\", \"B\", 4, un=True)\n",
    "    G.add_edge(\"A\", \"C\", 4, un=True)\n",
    "    G.add_edge(\"B\", \"C\", 2, un=True)\n",
    "\n",
    "    G.add_edge(\"C\", \"D\", 3, un=True)\n",
    "    G.add_edge(\"D\", \"F\", 3, un=True)\n",
    "    G.add_edge(\"C\", \"F\", 4, un=True)\n",
    "    G.add_edge(\"C\", \"E\", 2, un=True)\n",
    "    G.add_edge(\"E\", \"F\", 3, un=True)\n",
    "\n",
    "    # G.Print_adjMat()\n",
    "    # G.Print_adjList()\n",
    "    # print(G.allEdges(un = True))\n",
    "    pt = prim(G, \"F\")\n",
    "    print(list(pt), sep=\"\\n\")"
   ]
  }
 ],
 "metadata": {
  "kernelspec": {
   "display_name": "Python 3",
   "language": "python",
   "name": "python3"
  },
  "language_info": {
   "codemirror_mode": {
    "name": "ipython",
    "version": 3
   },
   "file_extension": ".py",
   "mimetype": "text/x-python",
   "name": "python",
   "nbconvert_exporter": "python",
   "pygments_lexer": "ipython3",
   "version": "3.11.4"
  }
 },
 "nbformat": 4,
 "nbformat_minor": 2
}
