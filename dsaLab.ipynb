{
 "cells": [
  {
   "cell_type": "markdown",
   "metadata": {},
   "source": [
    "# Experiment 1.A - BFS (Breadth First Search)\n",
    "\n",
    "## AIM\n",
    "To implement Breadth First Search traversal for a graph.\n",
    "\n",
    "## ALGORITHM\n",
    "1. Start by putting any one of the graph's vertices at the back of a queue.\n",
    "2. Take the front item of the queue and add it to the visited list.\n",
    "3. Create a list of that vertex's adjacent nodes. Add the ones which aren't in the visited list to the back of the queue.\n",
    "4. Keep repeating steps 2 and 3 until the queue is empty.\n",
    "\n",
    "\n"
   ]
  },
  {
   "cell_type": "code",
   "execution_count": 22,
   "metadata": {},
   "outputs": [
    {
     "name": "stdout",
     "output_type": "stream",
     "text": [
      "Adjcent List:\n",
      "--------------------\n",
      "0 : [1, 2, 3]\n",
      "1 : [0, 2]\n",
      "2 : [0, 4]\n",
      "3 : [1]\n",
      "4 : [2]\n",
      "--------------------\n",
      "[1, 0, 2, 3, 4]\n"
     ]
    }
   ],
   "source": [
    "from ds import Graph, Queue\n",
    "\n",
    "def bfs(grph: Graph, vrt):\n",
    "    \"\"\"\n",
    "    The algorithm works as follows:\n",
    "        1. Start by putting any one of the graph's vertices at the back of a queue.\n",
    "        2. Take the front item of the queue and add it to the visited list.\n",
    "        3. Create a list of that vertex's adjacent nodes. Add the ones which aren't in the visited list to the back of the queue.\n",
    "        4. Keep repeating steps 2 and 3 until the queue is empty.\n",
    "    \"\"\"\n",
    "\n",
    "    if not grph.isVertice(vrt):\n",
    "        return None\n",
    "    q = Queue()\n",
    "    q.enQueue(vrt)\n",
    "    visited = []\n",
    "    while not q.isEmpty():\n",
    "        vrtx = q.deQueue()\n",
    "        # print(vrtx,end=\"\\t\")\n",
    "        visited.append(vrtx)\n",
    "        neibours = grph.edgesOf(vrtx)\n",
    "        # print(neibours, visited)\n",
    "        for neibour in neibours:\n",
    "            if not (neibour in visited) and not q.inQueue(neibour):\n",
    "                q.enQueue(neibour)\n",
    "            else:\n",
    "                continue\n",
    "        # q.display()\n",
    "    return visited\n",
    "\n",
    "G = Graph(graph={0: [1, 2, 3], 1: [0, 2], 2: [0, 4], 3: [1], 4: [2]})\n",
    "G.Print_adjList()\n",
    "\n",
    "bfs = bfs(G, 1)\n",
    "print(bfs)\n"
   ]
  },
  {
   "cell_type": "markdown",
   "metadata": {},
   "source": [
    "## RESULT\n",
    "Hence BFS has been implemented and the graph has been traversed successfully"
   ]
  },
  {
   "cell_type": "markdown",
   "metadata": {},
   "source": [
    "# Experiment 1.B - DFS (DEPTH FIRST SEARCH)\n",
    "\n",
    "## AIM\n",
    "To implement DFS traversal for a graph.\n",
    "\n",
    "## ALGORITHM\n",
    "1. Start by putting any one of the graph's vertices at the back of a queue.\n",
    "2. Take the front item of the queue and add it to the visited list.\n",
    "3. Create a list of that vertex's adjacent nodes. Add the ones which aren't in the visited list to the back of the queue.\n",
    "4. Keep repeating steps 2 and 3 until the queue is empty.\n",
    "\n",
    "\n"
   ]
  },
  {
   "cell_type": "code",
   "execution_count": 23,
   "metadata": {},
   "outputs": [
    {
     "name": "stdout",
     "output_type": "stream",
     "text": [
      "Adjcent List:\n",
      "--------------------\n",
      "1 : [2, 3]\n",
      "2 : [1, 4, 5]\n",
      "3 : [1, 4]\n",
      "4 : [2, 3, 5]\n",
      "5 : [2, 4]\n",
      "--------------------\n",
      "3\n",
      "5\n",
      "4\n",
      "2\n",
      "1\n",
      "None\n"
     ]
    }
   ],
   "source": [
    "from ds import Stack, Graph\n",
    "\n",
    "\n",
    "def dfs(G: Graph, starting_vertex):\n",
    "    if not G.isVertice(starting_vertex):\n",
    "        return None\n",
    "    visited = set()\n",
    "    stk = Stack()\n",
    "    stk.push(starting_vertex)\n",
    "    visited.add(starting_vertex)\n",
    "    while not stk.isEmpty():\n",
    "        vertx = stk.top()\n",
    "        h = (set(G.edgesOf(vertx)) - visited)\n",
    "        if len(h) == 0:\n",
    "            print(stk.pop())\n",
    "        else:\n",
    "            adj = list(h)[0]\n",
    "            visited.add(adj)\n",
    "            stk.push(adj)\n",
    "\n",
    "\n",
    "\n",
    "G = Graph(graph={1: [2, 3], 2: [1, 4, 5], 3: [1, 4], 4: [2, 3, 5], 5: [2, 4]})\n",
    "\n",
    "G.Print_adjList()\n",
    "\n",
    "\n",
    "DFS = dfs(G, 1)\n",
    "print(DFS)\n"
   ]
  },
  {
   "cell_type": "markdown",
   "metadata": {},
   "source": [
    "## RESULT\n",
    " Hence DFS has been implemented and the graph has been traversed successfully"
   ]
  },
  {
   "cell_type": "markdown",
   "metadata": {},
   "source": [
    "# Experiment 2 - Implementing MST using Prim’s Algorithm\n",
    "\n",
    "## AIM\n",
    "To implement Prim’s algorithm for finding the Minimum Spanning Tree (MST) of a graph.\n",
    "\n",
    "## ALGORITHM\n",
    "1. **Initialization**:\n",
    "   - Initialize the required data structures and set the initial vertex as visited.\n",
    "\n",
    "2. **Main Loop**:\n",
    "   - Continue the algorithm until all vertices are visited. This loop is based on the number of visited vertices compared to the total number of vertices in the graph (n).\n",
    "\n",
    "3. **Find Minimum-Weight Edge**:\n",
    "   - Identify the minimum-weight edge connected to the visited vertices by examining and sorting all edges based on their weights.\n",
    "\n",
    "4. **Cycle Check**:\n",
    "   - Ensure that the selected edge does not create a cycle in the MST by verifying that both of its vertices are not already visited.\n",
    "\n",
    "5. **Update MST and Mark Vertices**:\n",
    "   - If the edge does not create a cycle, add it to the MST and mark its vertices as visited.\n",
    "   - Yield the current minimum-weight edge as part of the MST.\n"
   ]
  },
  {
   "cell_type": "code",
   "execution_count": 24,
   "metadata": {},
   "outputs": [
    {
     "name": "stdout",
     "output_type": "stream",
     "text": [
      "[('F', 'D', 3), ('F', 'E', 3), ('E', 'C', 2), ('C', 'B', 2), ('B', 'A', 4)]\n"
     ]
    }
   ],
   "source": [
    "from weight_Graph import Graph\n",
    "\n",
    "def prim(G: Graph, vertex):\n",
    "    n = G.numberOfVertices()\n",
    "    visited_vertice = set()\n",
    "    visited_edges = set()\n",
    "    visited_vertice.add(vertex)\n",
    "    while len(visited_vertice) != n:\n",
    "        cur_edge = []\n",
    "        for a in visited_vertice:\n",
    "            cur_edge += G.edgesOf(a, n=True)\n",
    "\n",
    "        cur_edge = list(sorted(cur_edge, key=lambda x: x[-1]))\n",
    "        while (cur_edge[0][1] in visited_vertice and cur_edge[0][0] in visited_vertice):\n",
    "            cur_edge.pop(0)\n",
    "\n",
    "        v1 = cur_edge[0][0]\n",
    "        v2 = cur_edge[0][1]\n",
    "        w = cur_edge[0][-1]\n",
    "        visited_edges.add((v1, v2, w))\n",
    "        visited_edges.add((v2, v1, w))\n",
    "\n",
    "        # to say no cycle\n",
    "        if not (v2 in visited_vertice and v1 in visited_vertice):\n",
    "            visited_vertice.add(v2)\n",
    "            visited_vertice.add(v1)\n",
    "            yield cur_edge[0]\n",
    "\n",
    "\n",
    "G = Graph()\n",
    "\n",
    "if __name__ == '__main__':\n",
    "    G.add_vertice(\"A\")\n",
    "    G.add_vertice(\"B\")\n",
    "    G.add_vertice(\"C\")\n",
    "    G.add_vertice(\"D\")\n",
    "    G.add_vertice(\"E\")\n",
    "    G.add_vertice(\"F\")\n",
    "\n",
    "    G.add_edge(\"A\", \"B\", 4, un=True)\n",
    "    G.add_edge(\"A\", \"C\", 4, un=True)\n",
    "    G.add_edge(\"B\", \"C\", 2, un=True)\n",
    "\n",
    "    G.add_edge(\"C\", \"D\", 3, un=True)\n",
    "    G.add_edge(\"D\", \"F\", 3, un=True)\n",
    "    G.add_edge(\"C\", \"F\", 4, un=True)\n",
    "    G.add_edge(\"C\", \"E\", 2, un=True)\n",
    "    G.add_edge(\"E\", \"F\", 3, un=True)\n",
    "\n",
    "    # G.Print_adjMat()\n",
    "    # G.Print_adjList()\n",
    "    # print(G.allEdges(un = True))\n",
    "    pt = prim(G, \"F\")\n",
    "    print(list(pt), sep=\"\\n\")"
   ]
  },
  {
   "cell_type": "markdown",
   "metadata": {},
   "source": [
    "# Experiment 3 - Implementing MST using Kruskal’s Algorithm\n",
    "\n",
    "## AIM\n",
    "To implement Kruskal’s algorithm for finding the Minimum Spanning Tree (MST) of a graph.\n",
    "\n",
    "## ALGORITHM\n",
    "1. **Initialization**:\n",
    "   - Set up data structures, including a list of all edges, a Disjoint Set data structure, and sets to track visited edges and vertices.\n",
    "\n",
    "2. **Sorting Edges**:\n",
    "   - Sort all edges in ascending order based on their weights.\n",
    "\n",
    "3. **Main Loop**:\n",
    "   - Continue the algorithm until all vertices are visited. The loop stops when the number of visited vertices equals the total number of vertices.\n",
    "\n",
    "4. **Select Minimum Edge**:\n",
    "   - Pick the minimum-weight edge (greedy choice) from the sorted list of edges.\n",
    "\n",
    "5. **Edge Validation and Update**:\n",
    "   - Check if adding the edge creates a cycle, and if not, yield the edge as part of the MST.\n",
    "   - Update the sets of visited edges and vertices, remove the reverse edge, and perform a union operation to merge the sets of the connected vertices.\n",
    "\n",
    "This algorithm constructs the Minimum Spanning Tree of the given graph by iteratively selecting and validating edges based on their weights.\n"
   ]
  },
  {
   "cell_type": "code",
   "execution_count": 25,
   "metadata": {},
   "outputs": [
    {
     "name": "stdout",
     "output_type": "stream",
     "text": [
      "[('B', 'C', 2), ('C', 'E', 2), ('C', 'D', 3), ('D', 'F', 3), ('A', 'B', 4)]\n"
     ]
    }
   ],
   "source": [
    "from weight_Graph import Graph\n",
    "from ds import DisjointSet\n",
    "\n",
    "\n",
    "def kruskal(G: Graph):\n",
    "    edges = G.allEdges()\n",
    "    disSet = DisjointSet(G.Vertices())\n",
    "    n = G.numberOfVertices()\n",
    "    visted_edges = set()\n",
    "    visted_vertices = set()\n",
    "    edges.sort(key=lambda x: x[-1])\n",
    "    #while n-1 != len(visted_edges):\n",
    "    while n != len(visted_vertices):\n",
    "        min_ = edges.pop(0)\n",
    "        if not (min_ in visted_edges and (min_[1], min_[0], min_[-1]) in visted_edges) and (disSet.find(min_[0]) != disSet.find(min_[1])):\n",
    "            yield min_\n",
    "            visted_edges.add(min_)\n",
    "            visted_edges.add((min_[1], min_[0], min_[-1]))\n",
    "            edges.remove((min_[1], min_[0], min_[-1]))\n",
    "            disSet.union(min_[0], min_[1])\n",
    "            visted_vertices.add(min_[0])\n",
    "            visted_vertices.add(min_[1])\n",
    "\n",
    "\n",
    "G = Graph()\n",
    "\n",
    "if __name__ == '__main__':\n",
    "    G.add_vertice(\"A\")\n",
    "    G.add_vertice(\"B\")\n",
    "    G.add_vertice(\"C\")\n",
    "    G.add_vertice(\"D\")\n",
    "    G.add_vertice(\"E\")\n",
    "    G.add_vertice(\"F\")\n",
    "\n",
    "    G.add_edge(\"A\", \"B\", 4, un=True)\n",
    "    G.add_edge(\"A\", \"C\", 4, un=True)\n",
    "    G.add_edge(\"B\", \"C\", 2, un=True)\n",
    "\n",
    "    G.add_edge(\"C\", \"D\", 3, un=True)\n",
    "    G.add_edge(\"D\", \"F\", 3, un=True)\n",
    "    G.add_edge(\"C\", \"F\", 4, un=True)\n",
    "    G.add_edge(\"C\", \"E\", 2, un=True)\n",
    "    G.add_edge(\"E\", \"F\", 3, un=True)\n",
    "\n",
    "    k = list(kruskal(G))\n",
    "    print(k, sep=\"\\n\")\n"
   ]
  },
  {
   "cell_type": "markdown",
   "metadata": {},
   "source": [
    "# EXPERIMENT 4\n",
    "### Standard Implementations of Numpy Library"
   ]
  },
  {
   "cell_type": "markdown",
   "metadata": {},
   "source": [
    "#### NumPy \n",
    "\n",
    "NumPy (or Numpy) is a Linear Algebra Library for Python, the reason it is so important for Data Science with Python is that almost all of the libraries in the PyData Ecosystem rely on NumPy as one of their main building blocks.\n",
    "\n",
    "Numpy is also incredibly fast, as it has bindings to C libraries.\n"
   ]
  },
  {
   "cell_type": "markdown",
   "metadata": {},
   "source": [
    "## Installation Instructions\n",
    "\n",
    "in anaconda\n",
    "\n",
    "    conda install numpy\n",
    "\n",
    "in pip\n",
    "\n",
    "    pip install numpy"
   ]
  },
  {
   "cell_type": "markdown",
   "metadata": {},
   "source": [
    "## Using NumPy\n",
    "\n",
    "Once you've installed NumPy you can import it as a library:"
   ]
  },
  {
   "cell_type": "markdown",
   "metadata": {},
   "source": [
    "### Numpy Arrays\n",
    "\n",
    "\n",
    "\n",
    "\n",
    "## Creating NumPy Arrays\n",
    "\n",
    "### From a Python List\n",
    "\n",
    "We can create an array by directly converting a list or list of lists:"
   ]
  },
  {
   "cell_type": "code",
   "execution_count": 26,
   "metadata": {},
   "outputs": [
    {
     "name": "stdout",
     "output_type": "stream",
     "text": [
      "[1, 2, 3] <class 'list'>\n",
      "[1 2 3] <class 'numpy.ndarray'>\n",
      "[[1, 2, 3], [4, 5, 6], [7, 8, 9]] <class 'list'>\n",
      "[[1 2 3]\n",
      " [4 5 6]\n",
      " [7 8 9]] <class 'numpy.ndarray'>\n"
     ]
    }
   ],
   "source": [
    "import numpy as np\n",
    "\n",
    "my_list = [1,2,3]\n",
    "print(my_list,type(my_list))\n",
    "arr =  np.array(my_list)\n",
    "print(arr, type(arr))\n",
    "\n",
    "my_matrix = [[1,2,3],[4,5,6],[7,8,9]]\n",
    "print(my_matrix,type(my_matrix))\n",
    "np_matrix = np.array(my_matrix)\n",
    "print(np_matrix,type(np_matrix))"
   ]
  },
  {
   "cell_type": "markdown",
   "metadata": {},
   "source": [
    "### Replicating, joining, or mutating existing arrays\n"
   ]
  },
  {
   "cell_type": "code",
   "execution_count": 27,
   "metadata": {},
   "outputs": [
    {
     "name": "stdout",
     "output_type": "stream",
     "text": [
      "a = [2 3 3 4 5 6] ; b = [2 3]\n"
     ]
    }
   ],
   "source": [
    "a = np.array([1, 2, 3, 4, 5, 6])\n",
    "b = a[:2]\n",
    "b += 1\n",
    "print('a =', a, '; b =', b)"
   ]
  },
  {
   "cell_type": "markdown",
   "metadata": {},
   "source": [
    "In this example, you did not create a new array. You created a variable, b that viewed the first 2 elements of a. When you added 1 to b you would get the same result by adding 1 to a[:2].\n",
    "If you want to create a new array, use the numpy.copy array creation routine as such:"
   ]
  },
  {
   "cell_type": "code",
   "execution_count": 28,
   "metadata": {},
   "outputs": [
    {
     "name": "stdout",
     "output_type": "stream",
     "text": [
      "a =  [1 2 3 4] b =  [2 3]\n"
     ]
    }
   ],
   "source": [
    "a = np.array([1, 2, 3, 4])\n",
    "b = a[:2].copy()\n",
    "b += 1\n",
    "print('a = ', a, 'b = ', b)"
   ]
  },
  {
   "cell_type": "markdown",
   "metadata": {},
   "source": [
    "## Built-in Methods\n",
    "\n",
    "There are lots of built-in ways to generate Arrays"
   ]
  },
  {
   "cell_type": "markdown",
   "metadata": {},
   "source": [
    "### arange\n",
    "\n",
    "Return evenly spaced values within a given interval."
   ]
  },
  {
   "cell_type": "code",
   "execution_count": 29,
   "metadata": {},
   "outputs": [
    {
     "data": {
      "text/plain": [
       "array([0, 1, 2, 3, 4, 5, 6, 7, 8, 9])"
      ]
     },
     "execution_count": 29,
     "metadata": {},
     "output_type": "execute_result"
    }
   ],
   "source": [
    "np.arange(0,10)"
   ]
  },
  {
   "cell_type": "code",
   "execution_count": 30,
   "metadata": {},
   "outputs": [
    {
     "data": {
      "text/plain": [
       "array([ 0,  2,  4,  6,  8, 10])"
      ]
     },
     "execution_count": 30,
     "metadata": {},
     "output_type": "execute_result"
    }
   ],
   "source": [
    "np.arange(0,11,2)"
   ]
  },
  {
   "cell_type": "markdown",
   "metadata": {},
   "source": [
    "### zeros , ones, diags\n",
    "\n",
    "Generate arrays of zeros ,ones , diags"
   ]
  },
  {
   "cell_type": "code",
   "execution_count": 31,
   "metadata": {},
   "outputs": [
    {
     "data": {
      "text/plain": [
       "array([0., 0., 0.])"
      ]
     },
     "execution_count": 31,
     "metadata": {},
     "output_type": "execute_result"
    }
   ],
   "source": [
    "np.zeros(3)"
   ]
  },
  {
   "cell_type": "code",
   "execution_count": 32,
   "metadata": {},
   "outputs": [
    {
     "data": {
      "text/plain": [
       "array([[0., 0., 0., 0., 0.],\n",
       "       [0., 0., 0., 0., 0.],\n",
       "       [0., 0., 0., 0., 0.],\n",
       "       [0., 0., 0., 0., 0.],\n",
       "       [0., 0., 0., 0., 0.]])"
      ]
     },
     "execution_count": 32,
     "metadata": {},
     "output_type": "execute_result"
    }
   ],
   "source": [
    "np.zeros((5,5))"
   ]
  },
  {
   "cell_type": "code",
   "execution_count": 33,
   "metadata": {},
   "outputs": [
    {
     "data": {
      "text/plain": [
       "array([1., 1., 1.])"
      ]
     },
     "execution_count": 33,
     "metadata": {},
     "output_type": "execute_result"
    }
   ],
   "source": [
    "np.ones(3)"
   ]
  },
  {
   "cell_type": "code",
   "execution_count": 34,
   "metadata": {},
   "outputs": [
    {
     "data": {
      "text/plain": [
       "array([[1., 1., 1.],\n",
       "       [1., 1., 1.],\n",
       "       [1., 1., 1.]])"
      ]
     },
     "execution_count": 34,
     "metadata": {},
     "output_type": "execute_result"
    }
   ],
   "source": [
    "np.ones((3,3))"
   ]
  },
  {
   "cell_type": "code",
   "execution_count": 35,
   "metadata": {},
   "outputs": [
    {
     "data": {
      "text/plain": [
       "array([[1, 0, 0],\n",
       "       [0, 2, 0],\n",
       "       [0, 0, 3]])"
      ]
     },
     "execution_count": 35,
     "metadata": {},
     "output_type": "execute_result"
    }
   ],
   "source": [
    "np.diag([1, 2, 3])"
   ]
  },
  {
   "cell_type": "code",
   "execution_count": 36,
   "metadata": {},
   "outputs": [
    {
     "data": {
      "text/plain": [
       "array([[0, 1, 0, 0],\n",
       "       [0, 0, 2, 0],\n",
       "       [0, 0, 0, 3],\n",
       "       [0, 0, 0, 0]])"
      ]
     },
     "execution_count": 36,
     "metadata": {},
     "output_type": "execute_result"
    }
   ],
   "source": [
    "np.diag([1, 2, 3], 1)"
   ]
  },
  {
   "cell_type": "code",
   "execution_count": 37,
   "metadata": {},
   "outputs": [
    {
     "data": {
      "text/plain": [
       "array([1, 4])"
      ]
     },
     "execution_count": 37,
     "metadata": {},
     "output_type": "execute_result"
    }
   ],
   "source": [
    "a = np.array([[1, 2], [3, 4]])\n",
    "np.diag(a)"
   ]
  },
  {
   "cell_type": "markdown",
   "metadata": {},
   "source": [
    "### linspace\n",
    "Return evenly spaced numbers over a specified interval."
   ]
  },
  {
   "cell_type": "code",
   "execution_count": 38,
   "metadata": {},
   "outputs": [
    {
     "data": {
      "text/plain": [
       "array([ 0.,  5., 10.])"
      ]
     },
     "execution_count": 38,
     "metadata": {},
     "output_type": "execute_result"
    }
   ],
   "source": [
    "np.linspace(0,10,3)"
   ]
  },
  {
   "cell_type": "code",
   "execution_count": 39,
   "metadata": {},
   "outputs": [
    {
     "data": {
      "text/plain": [
       "array([ 0.        ,  0.20408163,  0.40816327,  0.6122449 ,  0.81632653,\n",
       "        1.02040816,  1.2244898 ,  1.42857143,  1.63265306,  1.83673469,\n",
       "        2.04081633,  2.24489796,  2.44897959,  2.65306122,  2.85714286,\n",
       "        3.06122449,  3.26530612,  3.46938776,  3.67346939,  3.87755102,\n",
       "        4.08163265,  4.28571429,  4.48979592,  4.69387755,  4.89795918,\n",
       "        5.10204082,  5.30612245,  5.51020408,  5.71428571,  5.91836735,\n",
       "        6.12244898,  6.32653061,  6.53061224,  6.73469388,  6.93877551,\n",
       "        7.14285714,  7.34693878,  7.55102041,  7.75510204,  7.95918367,\n",
       "        8.16326531,  8.36734694,  8.57142857,  8.7755102 ,  8.97959184,\n",
       "        9.18367347,  9.3877551 ,  9.59183673,  9.79591837, 10.        ])"
      ]
     },
     "execution_count": 39,
     "metadata": {},
     "output_type": "execute_result"
    }
   ],
   "source": [
    "np.linspace(0,10,50)"
   ]
  },
  {
   "cell_type": "markdown",
   "metadata": {},
   "source": [
    "### randint\n",
    "Return random integers from `low` (inclusive) to `high` (exclusive)."
   ]
  },
  {
   "cell_type": "code",
   "execution_count": 40,
   "metadata": {},
   "outputs": [
    {
     "data": {
      "text/plain": [
       "38"
      ]
     },
     "execution_count": 40,
     "metadata": {},
     "output_type": "execute_result"
    }
   ],
   "source": [
    "np.random.randint(1,100)"
   ]
  },
  {
   "cell_type": "code",
   "execution_count": 41,
   "metadata": {},
   "outputs": [
    {
     "data": {
      "text/plain": [
       "array([49, 27, 50,  5, 52,  9, 74, 23, 69,  7])"
      ]
     },
     "execution_count": 41,
     "metadata": {},
     "output_type": "execute_result"
    }
   ],
   "source": [
    "np.random.randint(1,100,10)"
   ]
  },
  {
   "cell_type": "markdown",
   "metadata": {},
   "source": [
    "## Reshape, flatten \n",
    "Returns an array containing the same data with a new shape."
   ]
  },
  {
   "cell_type": "code",
   "execution_count": 42,
   "metadata": {},
   "outputs": [
    {
     "data": {
      "text/plain": [
       "array([ 0,  1,  2,  3,  4,  5,  6,  7,  8,  9, 10, 11, 12, 13, 14, 15, 16,\n",
       "       17, 18, 19, 20, 21, 22, 23, 24])"
      ]
     },
     "execution_count": 42,
     "metadata": {},
     "output_type": "execute_result"
    }
   ],
   "source": [
    "arr = np.arange(25)\n",
    "arr"
   ]
  },
  {
   "cell_type": "code",
   "execution_count": 43,
   "metadata": {},
   "outputs": [
    {
     "data": {
      "text/plain": [
       "array([[ 0,  1,  2,  3,  4],\n",
       "       [ 5,  6,  7,  8,  9],\n",
       "       [10, 11, 12, 13, 14],\n",
       "       [15, 16, 17, 18, 19],\n",
       "       [20, 21, 22, 23, 24]])"
      ]
     },
     "execution_count": 43,
     "metadata": {},
     "output_type": "execute_result"
    }
   ],
   "source": [
    "arr.reshape(5,5)"
   ]
  },
  {
   "cell_type": "code",
   "execution_count": 44,
   "metadata": {},
   "outputs": [
    {
     "data": {
      "text/plain": [
       "array([ 0,  1,  2,  3,  4,  5,  6,  7,  8,  9, 10, 11, 12, 13, 14, 15, 16,\n",
       "       17, 18, 19, 20, 21, 22, 23, 24])"
      ]
     },
     "execution_count": 44,
     "metadata": {},
     "output_type": "execute_result"
    }
   ],
   "source": [
    "arr.flatten()"
   ]
  },
  {
   "cell_type": "code",
   "execution_count": 45,
   "metadata": {},
   "outputs": [
    {
     "data": {
      "text/plain": [
       "(25,)"
      ]
     },
     "execution_count": 45,
     "metadata": {},
     "output_type": "execute_result"
    }
   ],
   "source": [
    "arr.shape"
   ]
  },
  {
   "cell_type": "markdown",
   "metadata": {},
   "source": [
    "### max,min\n",
    "\n",
    "These are useful methods for finding max or min values. Or to find their index locations using argmin or argmax"
   ]
  },
  {
   "cell_type": "code",
   "execution_count": 46,
   "metadata": {},
   "outputs": [
    {
     "data": {
      "text/plain": [
       "24"
      ]
     },
     "execution_count": 46,
     "metadata": {},
     "output_type": "execute_result"
    }
   ],
   "source": [
    "arr.max()"
   ]
  },
  {
   "cell_type": "code",
   "execution_count": 47,
   "metadata": {},
   "outputs": [
    {
     "data": {
      "text/plain": [
       "0"
      ]
     },
     "execution_count": 47,
     "metadata": {},
     "output_type": "execute_result"
    }
   ],
   "source": [
    "arr.min()"
   ]
  },
  {
   "cell_type": "markdown",
   "metadata": {},
   "source": [
    "## Arithmetic\n",
    "\n",
    "You can easily perform array with array arithmetic, or scalar with array arithmetic. Let's see some examples:"
   ]
  },
  {
   "cell_type": "code",
   "execution_count": 48,
   "metadata": {
    "collapsed": true
   },
   "outputs": [
    {
     "name": "stdout",
     "output_type": "stream",
     "text": [
      "[0 1 2 3 4 5 6 7 8 9]\n",
      "[ 0  2  4  6  8 10 12 14 16 18]\n"
     ]
    }
   ],
   "source": [
    "import numpy as np\n",
    "arr = np.arange(0,10)\n",
    "arr2 = np.arange(0,20,2) \n",
    "print(arr)\n",
    "print(arr2)"
   ]
  },
  {
   "cell_type": "code",
   "execution_count": 49,
   "metadata": {},
   "outputs": [
    {
     "data": {
      "text/plain": [
       "array([ 0,  3,  6,  9, 12, 15, 18, 21, 24, 27])"
      ]
     },
     "execution_count": 49,
     "metadata": {},
     "output_type": "execute_result"
    }
   ],
   "source": [
    "arr + arr2"
   ]
  },
  {
   "cell_type": "code",
   "execution_count": 50,
   "metadata": {},
   "outputs": [
    {
     "data": {
      "text/plain": [
       "array([  0,   2,   8,  18,  32,  50,  72,  98, 128, 162])"
      ]
     },
     "execution_count": 50,
     "metadata": {},
     "output_type": "execute_result"
    }
   ],
   "source": [
    "arr2 * arr"
   ]
  },
  {
   "cell_type": "code",
   "execution_count": 51,
   "metadata": {},
   "outputs": [
    {
     "data": {
      "text/plain": [
       "array([0, 1, 2, 3, 4, 5, 6, 7, 8, 9])"
      ]
     },
     "execution_count": 51,
     "metadata": {},
     "output_type": "execute_result"
    }
   ],
   "source": [
    "arr2 - arr"
   ]
  },
  {
   "cell_type": "code",
   "execution_count": 52,
   "metadata": {},
   "outputs": [
    {
     "name": "stderr",
     "output_type": "stream",
     "text": [
      "C:\\Users\\gurup\\AppData\\Local\\Temp\\ipykernel_2992\\209023188.py:3: RuntimeWarning: invalid value encountered in divide\n",
      "  arr2/arr\n"
     ]
    },
    {
     "data": {
      "text/plain": [
       "array([nan,  2.,  2.,  2.,  2.,  2.,  2.,  2.,  2.,  2.])"
      ]
     },
     "execution_count": 52,
     "metadata": {},
     "output_type": "execute_result"
    }
   ],
   "source": [
    "# Warning on division by zero, but not an error!\n",
    "# Just replaced with nan\n",
    "arr2/arr"
   ]
  },
  {
   "cell_type": "code",
   "execution_count": 53,
   "metadata": {},
   "outputs": [
    {
     "name": "stderr",
     "output_type": "stream",
     "text": [
      "C:\\Users\\gurup\\AppData\\Local\\Temp\\ipykernel_2992\\1360216608.py:2: RuntimeWarning: divide by zero encountered in divide\n",
      "  1/arr\n"
     ]
    },
    {
     "data": {
      "text/plain": [
       "array([       inf, 1.        , 0.5       , 0.33333333, 0.25      ,\n",
       "       0.2       , 0.16666667, 0.14285714, 0.125     , 0.11111111])"
      ]
     },
     "execution_count": 53,
     "metadata": {},
     "output_type": "execute_result"
    }
   ],
   "source": [
    "# Also warning, but not an error instead infinity\n",
    "1/arr"
   ]
  },
  {
   "cell_type": "code",
   "execution_count": 54,
   "metadata": {},
   "outputs": [
    {
     "data": {
      "text/plain": [
       "array([  0,   1,   8,  27,  64, 125, 216, 343, 512, 729], dtype=int32)"
      ]
     },
     "execution_count": 54,
     "metadata": {},
     "output_type": "execute_result"
    }
   ],
   "source": [
    "arr**3"
   ]
  },
  {
   "cell_type": "markdown",
   "metadata": {},
   "source": [
    "## Universal Array Functions\n",
    "\n",
    "Numpy comes with many [universal array functions](http://docs.scipy.org/doc/numpy/reference/ufuncs.html), which are essentially just mathematical operations you can use to perform the operation across the array. Let's show some common ones:"
   ]
  },
  {
   "cell_type": "code",
   "execution_count": 55,
   "metadata": {},
   "outputs": [
    {
     "data": {
      "text/plain": [
       "array([0.        , 1.        , 1.41421356, 1.73205081, 2.        ,\n",
       "       2.23606798, 2.44948974, 2.64575131, 2.82842712, 3.        ])"
      ]
     },
     "execution_count": 55,
     "metadata": {},
     "output_type": "execute_result"
    }
   ],
   "source": [
    "#Taking Square Roots\n",
    "np.sqrt(arr)"
   ]
  },
  {
   "cell_type": "code",
   "execution_count": 56,
   "metadata": {},
   "outputs": [
    {
     "data": {
      "text/plain": [
       "array([1.00000000e+00, 2.71828183e+00, 7.38905610e+00, 2.00855369e+01,\n",
       "       5.45981500e+01, 1.48413159e+02, 4.03428793e+02, 1.09663316e+03,\n",
       "       2.98095799e+03, 8.10308393e+03])"
      ]
     },
     "execution_count": 56,
     "metadata": {},
     "output_type": "execute_result"
    }
   ],
   "source": [
    "#Calcualting exponential (e^)\n",
    "np.exp(arr)"
   ]
  },
  {
   "cell_type": "code",
   "execution_count": 57,
   "metadata": {},
   "outputs": [
    {
     "data": {
      "text/plain": [
       "9"
      ]
     },
     "execution_count": 57,
     "metadata": {},
     "output_type": "execute_result"
    }
   ],
   "source": [
    "np.max(arr) #same as arr.max()"
   ]
  },
  {
   "cell_type": "code",
   "execution_count": 58,
   "metadata": {},
   "outputs": [
    {
     "data": {
      "text/plain": [
       "array([ 0.        ,  0.84147098,  0.90929743,  0.14112001, -0.7568025 ,\n",
       "       -0.95892427, -0.2794155 ,  0.6569866 ,  0.98935825,  0.41211849])"
      ]
     },
     "execution_count": 58,
     "metadata": {},
     "output_type": "execute_result"
    }
   ],
   "source": [
    "np.sin(arr)"
   ]
  },
  {
   "cell_type": "code",
   "execution_count": 59,
   "metadata": {},
   "outputs": [
    {
     "name": "stderr",
     "output_type": "stream",
     "text": [
      "C:\\Users\\gurup\\AppData\\Local\\Temp\\ipykernel_2992\\3120950136.py:1: RuntimeWarning: divide by zero encountered in log\n",
      "  np.log(arr)\n"
     ]
    },
    {
     "data": {
      "text/plain": [
       "array([      -inf, 0.        , 0.69314718, 1.09861229, 1.38629436,\n",
       "       1.60943791, 1.79175947, 1.94591015, 2.07944154, 2.19722458])"
      ]
     },
     "execution_count": 59,
     "metadata": {},
     "output_type": "execute_result"
    }
   ],
   "source": [
    "np.log(arr)"
   ]
  },
  {
   "cell_type": "markdown",
   "metadata": {},
   "source": [
    "### NumPy Indexing and Selection\n",
    "\n",
    "In this lecture we will discuss how to select elements or groups of elements from an array."
   ]
  },
  {
   "cell_type": "code",
   "execution_count": 60,
   "metadata": {},
   "outputs": [],
   "source": [
    "#Creating sample array\n",
    "arr1 = np.arange(0,11)"
   ]
  },
  {
   "cell_type": "code",
   "execution_count": 61,
   "metadata": {},
   "outputs": [
    {
     "data": {
      "text/plain": [
       "array([ 0,  1,  2,  3,  4,  5,  6,  7,  8,  9, 10])"
      ]
     },
     "execution_count": 61,
     "metadata": {},
     "output_type": "execute_result"
    }
   ],
   "source": [
    "#Show\n",
    "arr1"
   ]
  },
  {
   "cell_type": "markdown",
   "metadata": {},
   "source": [
    "## Bracket Indexing and Selection\n",
    "The simplest way to pick one or some elements of an array looks very similar to python lists:"
   ]
  },
  {
   "cell_type": "code",
   "execution_count": 62,
   "metadata": {},
   "outputs": [
    {
     "data": {
      "text/plain": [
       "8"
      ]
     },
     "execution_count": 62,
     "metadata": {},
     "output_type": "execute_result"
    }
   ],
   "source": [
    "#Get a value at an index\n",
    "arr1[8]"
   ]
  },
  {
   "cell_type": "code",
   "execution_count": 63,
   "metadata": {},
   "outputs": [
    {
     "data": {
      "text/plain": [
       "array([1, 2, 3, 4])"
      ]
     },
     "execution_count": 63,
     "metadata": {},
     "output_type": "execute_result"
    }
   ],
   "source": [
    "#Get values in a range\n",
    "arr1[1:5]"
   ]
  },
  {
   "cell_type": "code",
   "execution_count": 64,
   "metadata": {},
   "outputs": [
    {
     "data": {
      "text/plain": [
       "array([0, 1, 2, 3, 4])"
      ]
     },
     "execution_count": 64,
     "metadata": {},
     "output_type": "execute_result"
    }
   ],
   "source": [
    "#Get values in a range\n",
    "arr1[0:5]"
   ]
  },
  {
   "cell_type": "markdown",
   "metadata": {},
   "source": [
    "## Broadcasting\n",
    "\n",
    "Numpy arrays differ from a normal Python list because of their ability to broadcast:"
   ]
  },
  {
   "cell_type": "code",
   "execution_count": 65,
   "metadata": {},
   "outputs": [
    {
     "data": {
      "text/plain": [
       "array([100, 100, 100, 100, 100,   5,   6,   7,   8,   9,  10])"
      ]
     },
     "execution_count": 65,
     "metadata": {},
     "output_type": "execute_result"
    }
   ],
   "source": [
    "#Setting a value with index range (Broadcasting)\n",
    "arr1[0:5]=100\n",
    "\n",
    "#Show\n",
    "arr1"
   ]
  },
  {
   "cell_type": "code",
   "execution_count": 66,
   "metadata": {},
   "outputs": [
    {
     "data": {
      "text/plain": [
       "array([ 0,  1,  2,  3,  4,  5,  6,  7,  8,  9, 10])"
      ]
     },
     "execution_count": 66,
     "metadata": {},
     "output_type": "execute_result"
    }
   ],
   "source": [
    "# Reset array, we'll see why I had to reset in  a moment\n",
    "arr1 = np.arange(0,11)\n",
    "\n",
    "#Show\n",
    "arr1"
   ]
  },
  {
   "cell_type": "code",
   "execution_count": 67,
   "metadata": {},
   "outputs": [
    {
     "data": {
      "text/plain": [
       "array([0, 1, 2, 3, 4, 5])"
      ]
     },
     "execution_count": 67,
     "metadata": {},
     "output_type": "execute_result"
    }
   ],
   "source": [
    "#Important notes on Slices\n",
    "slice_of_arr1 = arr1[0:6]\n",
    "\n",
    "#Show slice\n",
    "slice_of_arr1"
   ]
  },
  {
   "cell_type": "code",
   "execution_count": 68,
   "metadata": {},
   "outputs": [
    {
     "data": {
      "text/plain": [
       "array([99, 99, 99, 99, 99, 99])"
      ]
     },
     "execution_count": 68,
     "metadata": {},
     "output_type": "execute_result"
    }
   ],
   "source": [
    "#Change Slice\n",
    "slice_of_arr1[:]=99\n",
    "\n",
    "#Show Slice again\n",
    "slice_of_arr1"
   ]
  },
  {
   "cell_type": "markdown",
   "metadata": {},
   "source": [
    "Now note the changes also occur in our original array!"
   ]
  },
  {
   "cell_type": "code",
   "execution_count": 69,
   "metadata": {},
   "outputs": [
    {
     "data": {
      "text/plain": [
       "array([99, 99, 99, 99, 99, 99,  6,  7,  8,  9, 10])"
      ]
     },
     "execution_count": 69,
     "metadata": {},
     "output_type": "execute_result"
    }
   ],
   "source": [
    "arr1"
   ]
  },
  {
   "cell_type": "markdown",
   "metadata": {},
   "source": [
    "Data is not copied, it's a view of the original array! This avoids memory problems!"
   ]
  },
  {
   "cell_type": "code",
   "execution_count": 70,
   "metadata": {},
   "outputs": [
    {
     "data": {
      "text/plain": [
       "array([99, 99, 99, 99, 99, 99,  6,  7,  8,  9, 10])"
      ]
     },
     "execution_count": 70,
     "metadata": {},
     "output_type": "execute_result"
    }
   ],
   "source": [
    "#To get a copy, need to be explicit\n",
    "arr1_copy = arr1.copy()\n",
    "\n",
    "arr1_copy"
   ]
  },
  {
   "cell_type": "markdown",
   "metadata": {},
   "source": [
    "## Indexing a 2D array (matrices)\n",
    "\n",
    "The general format is **arr_2d[row][col]** or **arr_2d[row,col]**."
   ]
  },
  {
   "cell_type": "code",
   "execution_count": 71,
   "metadata": {},
   "outputs": [
    {
     "data": {
      "text/plain": [
       "array([[ 5, 10, 15],\n",
       "       [20, 25, 30],\n",
       "       [35, 40, 45]])"
      ]
     },
     "execution_count": 71,
     "metadata": {},
     "output_type": "execute_result"
    }
   ],
   "source": [
    "arr_2d = np.array(([5,10,15],[20,25,30],[35,40,45]))\n",
    "\n",
    "#Show\n",
    "arr_2d"
   ]
  },
  {
   "cell_type": "code",
   "execution_count": 72,
   "metadata": {},
   "outputs": [
    {
     "data": {
      "text/plain": [
       "array([20, 25, 30])"
      ]
     },
     "execution_count": 72,
     "metadata": {},
     "output_type": "execute_result"
    }
   ],
   "source": [
    "#Indexing row\n",
    "arr_2d[1]"
   ]
  },
  {
   "cell_type": "code",
   "execution_count": 73,
   "metadata": {},
   "outputs": [
    {
     "data": {
      "text/plain": [
       "20"
      ]
     },
     "execution_count": 73,
     "metadata": {},
     "output_type": "execute_result"
    }
   ],
   "source": [
    "# Format is arr_2d[row][col] or arr_2d[row,col]\n",
    "\n",
    "# Getting individual element value\n",
    "arr_2d[1][0]"
   ]
  },
  {
   "cell_type": "code",
   "execution_count": 74,
   "metadata": {},
   "outputs": [
    {
     "data": {
      "text/plain": [
       "20"
      ]
     },
     "execution_count": 74,
     "metadata": {},
     "output_type": "execute_result"
    }
   ],
   "source": [
    "# Getting individual element value\n",
    "arr_2d[1,0]"
   ]
  },
  {
   "cell_type": "code",
   "execution_count": 75,
   "metadata": {},
   "outputs": [
    {
     "data": {
      "text/plain": [
       "array([[10, 15],\n",
       "       [25, 30]])"
      ]
     },
     "execution_count": 75,
     "metadata": {},
     "output_type": "execute_result"
    }
   ],
   "source": [
    "# 2D array slicing\n",
    "\n",
    "#Shape (2,2) from top right corner\n",
    "arr_2d[:2,1:]"
   ]
  },
  {
   "cell_type": "code",
   "execution_count": 76,
   "metadata": {},
   "outputs": [
    {
     "data": {
      "text/plain": [
       "array([35, 40, 45])"
      ]
     },
     "execution_count": 76,
     "metadata": {},
     "output_type": "execute_result"
    }
   ],
   "source": [
    "#Shape bottom row\n",
    "arr_2d[2]"
   ]
  },
  {
   "cell_type": "code",
   "execution_count": 77,
   "metadata": {},
   "outputs": [
    {
     "data": {
      "text/plain": [
       "array([35, 40, 45])"
      ]
     },
     "execution_count": 77,
     "metadata": {},
     "output_type": "execute_result"
    }
   ],
   "source": [
    "#Shape bottom row\n",
    "arr_2d[2,:]"
   ]
  },
  {
   "cell_type": "markdown",
   "metadata": {},
   "source": [
    "### Fancy Indexing\n",
    "\n",
    "Fancy indexing allows you to select entire rows or columns out of order,to show this, let's quickly build out a numpy array:"
   ]
  },
  {
   "cell_type": "code",
   "execution_count": 78,
   "metadata": {},
   "outputs": [],
   "source": [
    "#Set up matrix\n",
    "arr2d = np.zeros((10,10))"
   ]
  },
  {
   "cell_type": "code",
   "execution_count": 79,
   "metadata": {},
   "outputs": [],
   "source": [
    "#Length of array\n",
    "arr_length = arr2d.shape[1]"
   ]
  },
  {
   "cell_type": "code",
   "execution_count": 80,
   "metadata": {},
   "outputs": [
    {
     "data": {
      "text/plain": [
       "array([[0., 0., 0., 0., 0., 0., 0., 0., 0., 0.],\n",
       "       [1., 1., 1., 1., 1., 1., 1., 1., 1., 1.],\n",
       "       [2., 2., 2., 2., 2., 2., 2., 2., 2., 2.],\n",
       "       [3., 3., 3., 3., 3., 3., 3., 3., 3., 3.],\n",
       "       [4., 4., 4., 4., 4., 4., 4., 4., 4., 4.],\n",
       "       [5., 5., 5., 5., 5., 5., 5., 5., 5., 5.],\n",
       "       [6., 6., 6., 6., 6., 6., 6., 6., 6., 6.],\n",
       "       [7., 7., 7., 7., 7., 7., 7., 7., 7., 7.],\n",
       "       [8., 8., 8., 8., 8., 8., 8., 8., 8., 8.],\n",
       "       [9., 9., 9., 9., 9., 9., 9., 9., 9., 9.]])"
      ]
     },
     "execution_count": 80,
     "metadata": {},
     "output_type": "execute_result"
    }
   ],
   "source": [
    "#Set up array\n",
    "\n",
    "for i in range(arr_length):\n",
    "    arr2d[i] = i\n",
    "    \n",
    "arr2d"
   ]
  },
  {
   "cell_type": "markdown",
   "metadata": {},
   "source": [
    "Fancy indexing allows the following"
   ]
  },
  {
   "cell_type": "code",
   "execution_count": 81,
   "metadata": {},
   "outputs": [
    {
     "data": {
      "text/plain": [
       "array([[2., 2., 2., 2., 2., 2., 2., 2., 2., 2.],\n",
       "       [4., 4., 4., 4., 4., 4., 4., 4., 4., 4.],\n",
       "       [6., 6., 6., 6., 6., 6., 6., 6., 6., 6.],\n",
       "       [8., 8., 8., 8., 8., 8., 8., 8., 8., 8.]])"
      ]
     },
     "execution_count": 81,
     "metadata": {},
     "output_type": "execute_result"
    }
   ],
   "source": [
    "arr2d[[2,4,6,8]]"
   ]
  },
  {
   "cell_type": "code",
   "execution_count": 82,
   "metadata": {},
   "outputs": [
    {
     "data": {
      "text/plain": [
       "array([[6., 6., 6., 6., 6., 6., 6., 6., 6., 6.],\n",
       "       [4., 4., 4., 4., 4., 4., 4., 4., 4., 4.],\n",
       "       [2., 2., 2., 2., 2., 2., 2., 2., 2., 2.],\n",
       "       [7., 7., 7., 7., 7., 7., 7., 7., 7., 7.]])"
      ]
     },
     "execution_count": 82,
     "metadata": {},
     "output_type": "execute_result"
    }
   ],
   "source": [
    "#Allows in any order\n",
    "arr2d[[6,4,2,7]]"
   ]
  },
  {
   "cell_type": "markdown",
   "metadata": {},
   "source": [
    "## Selection\n",
    "\n",
    "Let's briefly go over how to use brackets for selection based off of comparison operators."
   ]
  },
  {
   "cell_type": "code",
   "execution_count": 83,
   "metadata": {},
   "outputs": [
    {
     "data": {
      "text/plain": [
       "array([ 1,  2,  3,  4,  5,  6,  7,  8,  9, 10])"
      ]
     },
     "execution_count": 83,
     "metadata": {},
     "output_type": "execute_result"
    }
   ],
   "source": [
    "arr = np.arange(1,11)\n",
    "arr"
   ]
  },
  {
   "cell_type": "code",
   "execution_count": 84,
   "metadata": {},
   "outputs": [
    {
     "data": {
      "text/plain": [
       "array([False, False, False, False,  True,  True,  True,  True,  True,\n",
       "        True])"
      ]
     },
     "execution_count": 84,
     "metadata": {},
     "output_type": "execute_result"
    }
   ],
   "source": [
    "arr > 4"
   ]
  },
  {
   "cell_type": "code",
   "execution_count": 85,
   "metadata": {
    "collapsed": true
   },
   "outputs": [],
   "source": [
    "bool_arr = arr>4"
   ]
  },
  {
   "cell_type": "code",
   "execution_count": 86,
   "metadata": {},
   "outputs": [
    {
     "data": {
      "text/plain": [
       "array([False, False, False, False,  True,  True,  True,  True,  True,\n",
       "        True])"
      ]
     },
     "execution_count": 86,
     "metadata": {},
     "output_type": "execute_result"
    }
   ],
   "source": [
    "bool_arr"
   ]
  },
  {
   "cell_type": "code",
   "execution_count": 87,
   "metadata": {},
   "outputs": [
    {
     "data": {
      "text/plain": [
       "array([ 5,  6,  7,  8,  9, 10])"
      ]
     },
     "execution_count": 87,
     "metadata": {},
     "output_type": "execute_result"
    }
   ],
   "source": [
    "arr[bool_arr]"
   ]
  },
  {
   "cell_type": "code",
   "execution_count": 88,
   "metadata": {},
   "outputs": [
    {
     "data": {
      "text/plain": [
       "array([ 3,  4,  5,  6,  7,  8,  9, 10])"
      ]
     },
     "execution_count": 88,
     "metadata": {},
     "output_type": "execute_result"
    }
   ],
   "source": [
    "arr[arr>2]"
   ]
  },
  {
   "cell_type": "code",
   "execution_count": 89,
   "metadata": {},
   "outputs": [
    {
     "data": {
      "text/plain": [
       "array([ 3,  4,  5,  6,  7,  8,  9, 10])"
      ]
     },
     "execution_count": 89,
     "metadata": {},
     "output_type": "execute_result"
    }
   ],
   "source": [
    "x = 2\n",
    "arr[arr>x]"
   ]
  },
  {
   "cell_type": "markdown",
   "metadata": {},
   "source": [
    "#"
   ]
  },
  {
   "cell_type": "markdown",
   "metadata": {},
   "source": [
    "# Experiment 5 - Tries Implementation\n",
    "\n",
    "## AIM\n",
    "To write a Python program to implement Tries.\n",
    "\n",
    "## ALGORITHM\n",
    "\n",
    "1. **Create a Recursive Function**:\n",
    "   - Develop a recursive function that takes a node and a string as input.\n",
    "\n",
    "2. **Base Case - Empty String**:\n",
    "   - If the string is empty, mark the current node as a leaf node and return. This indicates the end of a word or string.\n",
    "\n",
    "3. **Check for Child Node**:\n",
    "   - If the string is not empty, get the first character of the string.\n",
    "   - Check if the current node has a child for that character.\n",
    "\n",
    "4. **Child Node Existence**:\n",
    "   - If a child node exists for the character, move to the child node and recursively call the function with the remaining characters of the string.\n",
    "\n",
    "5. **Create New Child Node**:\n",
    "   - If there's no child node for the character, create a new child node for that character and then recursively call the function with the remaining characters of the string.\n"
   ]
  },
  {
   "cell_type": "code",
   "execution_count": 94,
   "metadata": {},
   "outputs": [
    {
     "name": "stdout",
     "output_type": "stream",
     "text": [
      "app\n",
      "apple\n",
      "apricot\n",
      "banana\n",
      "bat\n",
      "\n",
      "True\n",
      "False\n"
     ]
    }
   ],
   "source": [
    "class TrieNode:\n",
    "    def __init__(self):\n",
    "        self.children = {}\n",
    "        self.is_end_of_word = False\n",
    "\n",
    "def insert(root, word):\n",
    "    node = root\n",
    "    for char in word:\n",
    "        if char not in node.children:\n",
    "            node.children[char] = TrieNode()\n",
    "        node = node.children[char]\n",
    "    node.is_end_of_word = True\n",
    "\n",
    "def search(root, word):\n",
    "    node = root\n",
    "    for char in word:\n",
    "        if char not in node.children:\n",
    "            return False\n",
    "        node = node.children[char]\n",
    "    return node.is_end_of_word\n",
    "def print_trie(root, prefix=\"\"):\n",
    "    if root.is_end_of_word:\n",
    "        print(prefix)\n",
    "    for char, node in root.children.items():\n",
    "        print_trie(node, prefix + char)\n",
    "\n",
    "# Example Usage:\n",
    "root = TrieNode()\n",
    "words = [\"apple\", \"app\", \"apricot\", \"banana\", \"bat\"]\n",
    "for word in words:\n",
    "    insert(root, word)\n",
    "print_trie(root)\n",
    "print()\n",
    "print(search(root, \"apple\"))  # Output: True\n",
    "print(search(root, \"apples\"))  # Output: False"
   ]
  },
  {
   "cell_type": "markdown",
   "metadata": {},
   "source": [
    "# Experiment 6 - Radix Sort Implementation\n",
    "\n",
    "## AIM\n",
    "To write a Python program to implement Radix Sort.\n",
    "\n",
    "## ALGORITHM\n",
    "1. **Initialization**: Find the maximum number in the array and determine the number of digits in it.\n",
    "\n",
    "2. **Create Buckets**: Create 10 buckets (0-9), one for each digit.\n",
    "\n",
    "3. **Iterate through Digits**: For each digit, from the least significant to the most significant:\n",
    "   - Place numbers into buckets based on the current digit.\n",
    "   - Reconstruct the array by emptying the buckets in order.\n",
    "\n",
    "4. **Repeat for Each Digit**: Python's ability to create nested loops makes it easy to repeat the process for each digit from the least significant to the most significant.\n",
    "\n",
    "5. **Completion**: After processing all digits, the array is sorted, and you have the sorted result.\n",
    "\n",
    "This experiment demonstrates the implementation of Radix Sort in Python, a non-comparative sorting algorithm that sorts numbers by processing their digits from least significant to most significant.\n"
   ]
  },
  {
   "cell_type": "code",
   "execution_count": 90,
   "metadata": {},
   "outputs": [
    {
     "name": "stdout",
     "output_type": "stream",
     "text": [
      "round 0\n",
      "[52, 123, 1323, 134]\n",
      "round 1\n",
      "[123, 1323, 134, 52]\n",
      "round 2\n",
      "[52, 123, 134, 1323]\n",
      "round 3\n",
      "[52, 123, 134, 1323]\n"
     ]
    }
   ],
   "source": [
    "l=eval(input(\"enter array in format [123,1323,134,52] : \"))\n",
    "d={0:[],1:[],2:[],3:[],4:[],5:[],6:[],7:[],8:[],9:[]}\n",
    "digits=len(str(max(l)))\n",
    "mod=10\n",
    "for i in range(digits):\n",
    "    new_l=[]\n",
    "    for j in l:\n",
    "        nl=d[(j%mod)//(mod/10)]\n",
    "        nl.append(j)\n",
    "    for j in d.values():\n",
    "        new_l+=j\n",
    "        j.clear()\n",
    "    l=new_l\n",
    "    mod*=10\n",
    "    print(\"round\",i)\n",
    "    print(l)"
   ]
  },
  {
   "cell_type": "markdown",
   "metadata": {},
   "source": [
    "# Experiment 7 - SHA-256 Implementation\n",
    "\n",
    "## AIM\n",
    "To write a Python program to implement SHA-256.\n",
    "\n",
    "## ALGORITHM\n",
    "\n",
    "1. **Encode the Input String**:\n",
    "   - Convert the input string to a byte array using the `encode()` method. This ensures that the input data is in a format that can be processed by the SHA-256 algorithm.\n",
    "\n",
    "2. **Hash the Byte Array**:\n",
    "   - Use the `sha256()` function from a cryptography library (e.g., `hashlib` in Python) to hash the byte array.\n",
    "   - The `sha256()` function takes the byte array as input and calculates the SHA-256 hash.\n",
    "\n",
    "3. **Get the Hexadecimal Digest**:\n",
    "   - Convert the hash obtained in step 2 to a hexadecimal string using the `hexdigest()` method. This provides a human-readable representation of the hash.\n",
    "   - The hexadecimal digest is the final output of the SHA-256 process.\n",
    "\n",
    "This experiment demonstrates the implementation of SHA-256 in Python to calculate the hash of an input string and obtain its hexadecimal digest."
   ]
  },
  {
   "cell_type": "code",
   "execution_count": 91,
   "metadata": {},
   "outputs": [
    {
     "name": "stdout",
     "output_type": "stream",
     "text": [
      "65768cb7d1407bda3159de800d13f4ba1754adf024f304a4609422a430be47a6\n"
     ]
    }
   ],
   "source": [
    "from hashlib import sha256\n",
    "\n",
    "string = \"this is fun\"\n",
    "\n",
    "hs = sha256(str.encode(\"utf - 8\")).hexdigest()\n",
    "print(hs)"
   ]
  },
  {
   "cell_type": "markdown",
   "metadata": {},
   "source": [
    "# Experiment 8 - Merkle Trees\n",
    "\n",
    "## AIM\n",
    "To write a Python program to implement Merkle trees.\n",
    "\n",
    "## ALGORITHM\n",
    "1. **Initialize Merkle Tree with Data**:\n",
    "   - Start with a set of data blocks.\n",
    "\n",
    "2. **Build Merkle Tree Recursively**:\n",
    "   - Build the Merkle tree recursively by grouping data blocks into pairs.\n",
    "   - For each pair of data blocks, calculate a hash (e.g., SHA-256) of the concatenation of the hashes of the two blocks.\n",
    "   - Continue this process until you have a single root hash, which represents the entire set of data blocks.\n",
    "\n",
    "3. **Get Root Hash of Merkle Tree**:\n",
    "   - The root hash obtained in step 2 represents the entire set of data.\n",
    "   - This root hash is used to verify the integrity of the data.\n",
    "\n",
    "4. **Verify Merkle Tree with Data and Root Hash**:\n",
    "   - To verify the integrity of data, reconstruct the Merkle tree as in step 2.\n",
    "   - Compare the root hash calculated in this step with the root hash obtained earlier.\n",
    "   - If they match, the data is considered intact and has not been tampered with.\n",
    "\n",
    "5. **Use Merkle Tree to Verify Integrity of Data**:\n",
    "   - Given a set of data blocks and their corresponding Merkle tree, you can use the tree to efficiently verify the integrity of any specific data block.\n",
    "   - To verify a data block, start with its hash and trace its path up the tree to the root, calculating and comparing hashes at each step.\n",
    "   - If the calculated hash matches the root hash, the data block is verified as authentic.\n",
    "\n",
    "This experiment demonstrates the implementation and use of Merkle trees to verify data integrity efficiently.\n"
   ]
  },
  {
   "cell_type": "code",
   "execution_count": 92,
   "metadata": {},
   "outputs": [
    {
     "name": "stdout",
     "output_type": "stream",
     "text": [
      "Merkle Root: d28b37a1683dadcf959c78c5c8e68694cbe28d87a61ba8c26d16adcd1a2d8fb7\n",
      "\n",
      "Full Merkle Tree:\n",
      "Level 0:\n",
      "\tNode 0: 123\n",
      "\tNode 1: 456\n",
      "\tNode 2: 789\n",
      "\tNode 3: 324\n",
      "\n",
      "Level 1:\n",
      "\tNode 0: 8d969eef6ecad3c29a3a629280e686cf0c3f5d5a86aff3ca12020c923adc6c92\n",
      "\tNode 1: 09fd7f0815b321ac516da995d3b95c6340ddb2401b8dc437d1733638c7132ba4\n",
      "\n",
      "Level 2:\n",
      "\tNode 0: d28b37a1683dadcf959c78c5c8e68694cbe28d87a61ba8c26d16adcd1a2d8fb7\n",
      "\n"
     ]
    }
   ],
   "source": [
    "import hashlib\n",
    "\n",
    "# Function to compute the SHA-256 hash of a string\n",
    "def SHA(data):\n",
    "    sha256 = hashlib.sha256()\n",
    "    sha256.update(data.encode('utf-8'))\n",
    "    return sha256.hexdigest()\n",
    "\n",
    "# Function to build a Merkle Tree from a list of data items and print the full tree\n",
    "def buildAndPrintMerkleTree(data):\n",
    "    if not data:\n",
    "        return None\n",
    "\n",
    "    currentLayer = data\n",
    "    fullTree = [currentLayer]  # To store all levels of the tree\n",
    "\n",
    "    while len(currentLayer) > 1:\n",
    "        newLayer = []\n",
    "\n",
    "        for i in range(0, len(currentLayer), 2):\n",
    "            combinedHash = currentLayer[i]\n",
    "            if i + 1 < len(currentLayer):\n",
    "                combinedHash += currentLayer[i + 1]\n",
    "\n",
    "            newLayer.append(SHA(combinedHash))\n",
    "\n",
    "        currentLayer = newLayer\n",
    "        fullTree.append(currentLayer)\n",
    "\n",
    "    return fullTree\n",
    "\n",
    "# Function to print the Merkle Tree\n",
    "def printMerkleTree(tree):\n",
    "    for level, hashes in enumerate(tree):\n",
    "        print(f\"Level {level}:\")\n",
    "        for i, hash in enumerate(hashes):\n",
    "            print(f\"\\tNode {i}: {hash}\")\n",
    "        print()\n",
    "\n",
    "# Example usage:\n",
    "data = [\"123\", \"456\", \"789\", \"324\"]\n",
    "\n",
    "fullTree = buildAndPrintMerkleTree(data)\n",
    "print(\"Merkle Root:\", fullTree[-1][0])  # Merkle Root is the last element\n",
    "\n",
    "# Print the full tree\n",
    "print(\"\\nFull Merkle Tree:\")\n",
    "printMerkleTree(fullTree)"
   ]
  },
  {
   "cell_type": "markdown",
   "metadata": {},
   "source": [
    "# Experiment 9 - Fusion Tree\n",
    "\n",
    "## AIM\n",
    "To gain a deep understanding of Fusion Trees.\n",
    "\n",
    "## FUSION TREE\n",
    "- A fusion tree is a tree data structure that implements an associative array on w-bit integers. It's designed to store integers that fit into a single machine word.\n",
    "- For example, on a 32-bit machine, you can use a fusion tree to store integers of up to 32 bits.\n",
    "- Fusion trees are used to solve the predecessor and successor problem.\n",
    "- They use O(n) space and perform searches on a collection of n key–value pairs.\n",
    "- They can perform sketch, parallel comparison, predecessor and successor, and insert operations in O(log N) time and O(N) space complexity.\n",
    "- Fusion trees are a powerful data structure that can be used to store and access associative arrays efficiently.\n",
    "- They are especially well-suited for applications where speed is important, such as real-time systems and databases.\n",
    "\n",
    "## RESULT\n",
    "Hence, Fusion trees have been studied effectively.\n",
    "\n",
    "This experiment provides an overview of Fusion Trees, their capabilities, and their relevance in solving problems related to associative arrays efficiently.\n"
   ]
  }
 ],
 "metadata": {
  "kernelspec": {
   "display_name": "Python 3",
   "language": "python",
   "name": "python3"
  },
  "language_info": {
   "codemirror_mode": {
    "name": "ipython",
    "version": 3
   },
   "file_extension": ".py",
   "mimetype": "text/x-python",
   "name": "python",
   "nbconvert_exporter": "python",
   "pygments_lexer": "ipython3",
   "version": "3.11.4"
  }
 },
 "nbformat": 4,
 "nbformat_minor": 2
}
